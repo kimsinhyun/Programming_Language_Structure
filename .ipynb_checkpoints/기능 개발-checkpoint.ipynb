{
 "cells": [
  {
   "cell_type": "markdown",
   "id": "95874eda",
   "metadata": {},
   "source": [
    "# 모듈 임포트"
   ]
  },
  {
   "cell_type": "code",
   "execution_count": 62,
   "id": "1244658a",
   "metadata": {},
   "outputs": [
    {
     "data": {
      "text/html": [
       "<style>.container { width:80% !important; }</style>"
      ],
      "text/plain": [
       "<IPython.core.display.HTML object>"
      ]
     },
     "metadata": {},
     "output_type": "display_data"
    }
   ],
   "source": [
    "from IPython.core.display import display, HTML \n",
    "display(HTML(\"<style>.container { width:80% !important; }</style>\"))"
   ]
  },
  {
   "cell_type": "code",
   "execution_count": 69,
   "id": "ae718a37",
   "metadata": {
    "executionInfo": {
     "elapsed": 684,
     "status": "ok",
     "timestamp": 1632579831257,
     "user": {
      "displayName": "김신현",
      "photoUrl": "https://lh3.googleusercontent.com/a-/AOh14GixRtPSDcWzJVV2PkZ5_XkdKT4HwzuERAUW6bb-=s64",
      "userId": "15925701389667937689"
     },
     "user_tz": -540
    },
    "id": "ae718a37"
   },
   "outputs": [],
   "source": [
    "#----------------기본 데이터 전처리 패키지--------------\n",
    "import pandas as pd\n",
    "import numpy as np\n",
    "import datetime\n",
    "\n",
    "\n",
    "#---------------시각화 라이브러리----------------\n",
    "import missingno as msno\n",
    "import matplotlib.pyplot as plt\n",
    "import seaborn as sns\n",
    "import plotly.express as px\n",
    "import plotly.graph_objects as go\n",
    "import plotly.figure_factory as ff\n",
    "import squarify\n",
    "\n",
    "\n",
    "#--------------워드클라우드를 위한 라이브러리\n",
    "from collections import Counter\n",
    "import collections\n",
    "from wordcloud import WordCloud\n",
    "\n",
    "\n",
    "\n",
    "\n",
    "#-------------IO 라이브러리--------------\n",
    "import sys\n",
    "import os\n",
    "from os import path\n",
    "if not sys.warnoptions:\n",
    "    import warnings\n",
    "    warnings.simplefilter(\"ignore\")\n",
    "sns.set_context('poster')\n",
    "sns.set_style('white')\n",
    "\n",
    "#-------------이미지 라이브러리----------\n",
    "from PIL import Image\n",
    "\n",
    "#-------------보고서 제작 라이브러리\n",
    "from tkinter import *\n",
    "from fpdf import FPDF\n",
    "import subprocess\n",
    "\n",
    "\n"
   ]
  },
  {
   "cell_type": "markdown",
   "id": "19fc2ff0",
   "metadata": {},
   "source": [
    "# 데이터 인코딩 변환(utf-8)"
   ]
  },
  {
   "cell_type": "code",
   "execution_count": 70,
   "id": "90a82288",
   "metadata": {},
   "outputs": [],
   "source": [
    "not (path.exists('./log_data'))\n",
    "dir_path = \"./log_data\"\n",
    "if(not path.exists(dir_path)):\n",
    "    os.mkdir(dir_path)\n",
    "    file_lst = os.listdir('./hs_g73_m08')\n",
    "\n",
    "    # 현재 디렉토리내에 각각의 파일을 출력\n",
    "    ID_list = []\n",
    "    for file in file_lst:\n",
    "        filepath = './hs_g73_m08/' + file\n",
    "        ID_list.append(file.split('_')[1])\n",
    "    for i in range(len(ID_list)):\n",
    "        try:\n",
    "            try:\n",
    "                data = pd.read_csv('./hs_g73_m08/hs_{}_m08_0903_1355.csv'.format(ID_list[i]),engine='python', encoding= 'cp949')\n",
    "            except:\n",
    "                data = pd.read_csv('./hs_g73_m08/hs_{}_m08_0903_1356.csv'.format(ID_list[i]),engine='python', encoding= 'cp949')\n",
    "        except:\n",
    "            try:\n",
    "                data = pd.read_csv('./hs_g73_m08/hs_{}_m08_0903_1355.csv'.format(ID_list[i]))\n",
    "            except:\n",
    "                data = pd.read_csv('./hs_g73_m08/hs_{}_m08_0903_1356.csv'.format(ID_list[i]))\n",
    "        data.to_csv('./log_data/hs_{}_m08_0903_1355.csv'.format(ID_list[i]),encoding='utf-8-sig')"
   ]
  },
  {
   "cell_type": "markdown",
   "id": "m2sby0qEGvlD",
   "metadata": {
    "id": "m2sby0qEGvlD"
   },
   "source": [
    "# 조회할 사용자 아이디 입력"
   ]
  },
  {
   "cell_type": "code",
   "execution_count": 71,
   "id": "ef54c967",
   "metadata": {},
   "outputs": [],
   "source": [
    "ID = \"\"\n",
    "class GUI:\n",
    "    def __init__(self, master):\n",
    "        self.master = master\n",
    "        self.master.geometry(\"300x300\")\n",
    "        self.master.resizable(0,0)\n",
    "        self.frame = Frame(self.master, width = 10000, height = 600)\n",
    "        self.master.title(\"Soon-yi's health report\")\n",
    "        self.label_code = Label(self.frame, text = \"Input code number\")\n",
    "        self.entry_code = Entry(self.frame)\n",
    "        self.button_code = Button(self.frame, command = self.click_code, text = \"build pdf file\")\n",
    "        self.button_exit = Button(self.frame, command = self.click_exit, text = \"exit\")\n",
    "        self.label_status = Label(self.frame, text = \"\")\n",
    "    def pack(self):\n",
    "        self.label_code.pack()\n",
    "        self.entry_code.pack()\n",
    "        self.button_code.pack()\n",
    "        self.button_exit.pack()\n",
    "        self.label_status.pack()\n",
    "        self.frame.pack()\n",
    "    def click_code(self):\n",
    "        self.label_status.destroy()\n",
    "        self.label_status = Label(self.frame, text = \"loading... it may take a while\")\n",
    "        self.label_status.pack()\n",
    "        getID(self.entry_code.get())\n",
    "        self.master.destroy()\n",
    "    def click_exit(self):\n",
    "        self.master.destroy()\n",
    "def getID(id):\n",
    "    global ID\n",
    "    ID = id\n",
    "\n",
    "root = Tk()\n",
    "app = GUI(root)\n",
    "app.pack()\n",
    "root.mainloop()"
   ]
  },
  {
   "cell_type": "markdown",
   "id": "c9100394",
   "metadata": {},
   "source": [
    "# 해당 사용자의 개인 이미지 폴더 생성"
   ]
  },
  {
   "cell_type": "code",
   "execution_count": 72,
   "id": "20e59167",
   "metadata": {},
   "outputs": [],
   "source": [
    "user_img_dir_path = \"./img/\" + ID\n",
    "if(not path.exists(user_img_dir_path)):\n",
    "    os.mkdir(user_img_dir_path)"
   ]
  },
  {
   "cell_type": "markdown",
   "id": "YVCogvXFG3L3",
   "metadata": {
    "id": "YVCogvXFG3L3"
   },
   "source": [
    "# 시간 관련 컬럼 추가하기\n",
    "- year\n",
    "- month\n",
    "- day\n",
    "- hour\n",
    "- minute\n",
    "- second\n",
    "- weekday"
   ]
  },
  {
   "cell_type": "code",
   "execution_count": 73,
   "id": "ee9bb40d",
   "metadata": {
    "colab": {
     "base_uri": "https://localhost:8080/",
     "height": 419
    },
    "executionInfo": {
     "elapsed": 961,
     "status": "ok",
     "timestamp": 1632579868629,
     "user": {
      "displayName": "김신현",
      "photoUrl": "https://lh3.googleusercontent.com/a-/AOh14GixRtPSDcWzJVV2PkZ5_XkdKT4HwzuERAUW6bb-=s64",
      "userId": "15925701389667937689"
     },
     "user_tz": -540
    },
    "id": "ee9bb40d",
    "outputId": "5ce23692-765a-43ee-efcd-64e820fc8b92"
   },
   "outputs": [],
   "source": [
    "#전처리\n",
    "#Time 관련 feature 전처리\n",
    "data = pd.read_csv('./log_data/hs_'+ ID +'_m08_0903_1355.csv')\n",
    "\n",
    "data['year'] = data['Time'].apply(lambda x: int(x[1:5]))\n",
    "data['month'] = data['Time'].apply(lambda x: int(x[6:8]))\n",
    "data['day'] = data['Time'].apply(lambda x: int(x[9:11]))\n",
    "data['hour'] = data['Time'].apply(lambda x: int(x[12:14]))\n",
    "data['minute'] = data['Time'].apply(lambda x: int(x[15:17]))\n",
    "data['second'] = data['Time'].apply(lambda x: int(x[18:20]))\n",
    "\n",
    "def return_weekday(vec):\n",
    "    year = vec[0]\n",
    "    month = vec[1]\n",
    "    day = vec[2]\n",
    "    days = ['Monday','Tuesday','Wednesday','Thursday','Friday','Satureday','Sunday']\n",
    "    b = days[datetime.date(year,month,day).weekday()]\n",
    "    return b\n",
    "\n",
    "def korean_weekday_encoding(weekday):\n",
    "    if weekday == 'Monday':\n",
    "        return '월요일'\n",
    "    elif weekday == 'Tuesday':\n",
    "        return '화요일'\n",
    "    elif weekday == 'Wednesday':\n",
    "        return '수요일'\n",
    "    elif weekday == 'Thursday':\n",
    "        return '목요일'\n",
    "    elif weekday == 'Friday':\n",
    "        return '금요일'\n",
    "    elif weekday == 'Satureday':\n",
    "        return '토요일'\n",
    "    elif weekday == 'Sunday':\n",
    "        return '일요일'\n",
    "\n",
    "data['Weekday2'] = data[['year','month','day']].apply(return_weekday,axis=1)\n",
    "data['Weekday'] = data['Weekday2'].apply(korean_weekday_encoding)\n"
   ]
  },
  {
   "cell_type": "code",
   "execution_count": null,
   "id": "43fb143d",
   "metadata": {},
   "outputs": [],
   "source": []
  },
  {
   "cell_type": "markdown",
   "id": "e1754729",
   "metadata": {},
   "source": [
    "# 순이 대화내용"
   ]
  },
  {
   "cell_type": "code",
   "execution_count": 74,
   "id": "da3baca2",
   "metadata": {},
   "outputs": [],
   "source": [
    "#순이의 대화 내용\n",
    "순이_대화내용_1 = data[~(data['Message_1']).isnull()]['Message_1'].reset_index(drop=True)\n",
    "순이_대화내용_2 = data[~(data['Message_2']).isnull()]['Message_2'].reset_index(drop=True)\n",
    "순이_대화내용_3 = data[~(data['Message_3']).isnull()]['Message_3'].reset_index(drop=True)\n",
    "순이_대화내용 = pd.concat([순이_대화내용_1,순이_대화내용_2,순이_대화내용_3],axis=0).reset_index(drop=True)\n",
    "순이_대화내용 = 순이_대화내용[순이_대화내용.values != \"프로그램 메시지\"].reset_index(drop=True)\n",
    "순이_대화내용 = list(순이_대화내용.values)\n",
    "첫번째_순이_대화내용_수 = len(순이_대화내용_1)\n",
    "두번째_순이_대화내용_수 = len(순이_대화내용_2)\n",
    "세번째_순이_대화내용_수 = len(순이_대화내용_3)\n",
    "\n",
    "#사용자의 대화 내용\n",
    "사용자_대화내용_1 = data[~(data['STT_1']).isnull()]['STT_1'].reset_index(drop=True)\n",
    "사용자_대화내용_2 = data[~(data['STT_2']).isnull()]['STT_2'].reset_index(drop=True)\n",
    "사용자_대화내용_3 = data[~(data['STT_3']).isnull()]['STT_3'].reset_index(drop=True)\n",
    "사용자_대화내용 = pd.concat([사용자_대화내용_1,사용자_대화내용_2,사용자_대화내용_3],axis=0).reset_index(drop=True)\n",
    "첫번째_사용자_대화내용_수 = len(사용자_대화내용_1)\n",
    "두번째_사용자_대화내용_수 = len(사용자_대화내용_2)\n",
    "세번째_사용자_대화내용_수 = len(사용자_대화내용_3)\n",
    "\n",
    "#순이 대화 횟수\n",
    "순이_대화_횟수 = len(순이_대화내용)                    #전체 순이 대화내용 횟수\n",
    "사용자_대화_횟수 = len(사용자_대화내용)                #전체 사용자 대화내용 횟수\n"
   ]
  },
  {
   "cell_type": "markdown",
   "id": "074b5200",
   "metadata": {},
   "source": [
    "# 순이 대화내용 워드클라우드"
   ]
  },
  {
   "cell_type": "code",
   "execution_count": 75,
   "id": "0296e873",
   "metadata": {},
   "outputs": [
    {
     "data": {
      "image/png": "[encoded data removed]",
      "text/plain": [
       "<Figure size 720x576 with 1 Axes>"
      ]
     },
     "metadata": {},
     "output_type": "display_data"
    }
   ],
   "source": [
    "contents_total = []\n",
    "stop_words='순이가 아 휴 아이구 아이쿠 아이고 어 왔어요! 어제 들고 뭘 오늘 나 우리 저희 따라 의해 을 를 에 의 가 으로 로 에게 뿐이다 의거하여 근거하여 입각하여 기준으로 예하면 예를 들면 예를 들자면 저 소인 소생 저희 지말고 하지마 하지마라 다른 물론 또한 그리고 비길수 없다 해서는 안된다 뿐만 아니라 만이 아니다 만은 아니다 막론하고 관계없이 그치지 않다 그러나 그런데 하지만 든간에 논하지 않다 따지지 않다 설사 비록 더라도 아니면 만 못하다 하는 편이 낫다 불문하고 향하여 향해서 향하다 쪽으로 틈타 이용하여 타다 오르다 제외하고 이 외에 이 밖에 하여야 비로소 한다면 몰라도 외에도 이곳 여기 부터 기점으로 따라서 할 생각이다 하려고하다 이리하여 그리하여 그렇게 함으로써 하지만 일때 할때 앞에서 중에서 보는데서 으로써 로써 까지 해야한다 일것이다 반드시 할줄알다 할수있다 할수있어 임에 틀림없다 한다면 등 등등 제 겨우 단지 다만 할뿐 딩동 댕그 대해서 대하여 대하면 훨씬 얼마나 얼마만큼 얼마큼 남짓 여 얼마간 약간 다소 좀 조금 다수 몇 얼마 지만 하물며 또한 그러나 그렇지만 하지만 이외에도 대해 말하자면 뿐이다 다음에 반대로 반대로 말하자면 이와 반대로 바꾸어서 말하면 바꾸어서 한다면 만약 그렇지않으면 까악 툭 딱 삐걱거리다 보드득 비걱거리다 꽈당 응당 해야한다 에 가서 각 각각 여러분 각종 각자 제각기 하도록하다 와 과 그러므로 그래서 고로 한 까닭에 하기 때문에 거니와 이지만 대하여 관하여 관한 과연 실로 아니나다를가 생각한대로 진짜로 한적이있다 하곤하였다 하 하하 허허 아하 거바 와 오 왜 어째서 무엇때문에 어찌 하겠는가 무슨 어디 어느곳 더군다나 하물며 더욱이는 어느때 언제 야 이봐 어이 여보시오 흐흐 흥 휴 헉헉 헐떡헐떡 영차 여차 어기여차 끙끙 아야 앗 아야 콸콸 졸졸 좍좍 뚝뚝 주룩주룩 솨 우르르 그래도 또 그리고 바꾸어말하면 바꾸어말하자면 혹은 혹시 답다 및 그에 따르는 때가 되어 즉 지든지 설령 가령 하더라도 할지라도 일지라도 지든지 몇 거의 하마터면 인젠 이젠 된바에야 된이상 만큼 어찌됏든 그위에 게다가 점에서 보아 비추어 보아 고려하면 하게될것이다 일것이다 비교적 좀 보다더 비하면 시키다 하게하다 할만하다 의해서 연이서 이어서 잇따라 뒤따라 뒤이어 결국 의지하여 기대여 통하여 자마자 더욱더 불구하고 얼마든지 마음대로 주저하지 않고 곧 즉시 바로 당장 하자마자 밖에 안된다 하면된다 그래 그렇지 요컨대 다시 말하자면 바꿔 말하면 즉 구체적으로 말하자면 시작하여 시초에 이상 허 헉 허걱 바와같이 해도좋다 해도된다 게다가 더구나 하물며 와르르 팍 퍽 펄렁 동안 이래 하고있었다 이었다 에서 로부터 까지 예하면 했어요 해요 함께 같이 더불어 마저 마저도 양자 모두 습니다 가까스로 하려고하다 즈음하여 다른 다른 방면으로 해봐요 습니까 했어요 말할것도 없고 무릎쓰고 개의치않고 하는것만 못하다 하는것이 낫다 매 매번 들 모 어느것 어느 로써 갖고말하자면 어디 어느쪽 어느것 어느해 어느 년도 라 해도 언젠가 어떤것 어느것 저기 저쪽 저것 그때 그럼 그러면 요만한걸 그래 그때 저것만큼 그저 이르기까지 할 줄 안다 할 힘이 있다 너 너희 당신 어찌 설마 차라리 할지언정 할지라도 할망정 할지언정 구토하다 게우다 토하다 메쓰겁다 옆사람 퉤 쳇 의거하여 근거하여 의해 따라 힘입어 그 다음 버금 두번째로 기타 첫번째로 나머지는 그중에서 견지에서 형식으로 쓰여 입장에서 위해서 단지 의해되다 하도록시키다 뿐만아니라 반대로 전후 전자 앞의것 잠시 잠깐 하면서 그렇지만 다음에 그러한즉 그런즉 남들 아무거나 어찌하든지 같다 비슷하다 예컨대 이럴정도로 어떻게 만약 만일 위에서 서술한바와같이 인 듯하다 하지 않는다면 만약에 무엇 무슨 어느 어떤 아래윗 조차 한데 그럼에도 불구하고 여전히 심지어 까지도 조차도 하지 않도록 않기 위하여 때 시각 무렵 시간 동안 어때 어떠한 하여금 네 예 우선 누구 누가 알겠는가 아무도 줄은모른다 줄은 몰랏다 하는 김에 겸사겸사 하는바 그런 까닭에 한 이유는 그러니 그러니까 때문에 그 너희 그들 너희들 타인 것 것들 너 위하여 공동으로 동시에 하기 위하여 어찌하여 무엇때문에 붕붕 윙윙 나 우리 엉엉 휘익 윙윙 오호 아하 어쨋든 만 못하다 하기보다는 차라리 하는 편이 낫다 흐흐 놀라다 상대적으로 말하자면 마치 아니라면 쉿 그렇지 않으면 그렇지 않다면 안 그러면 아니었다면 하든지 아니면 이라면 좋아 알았어 하는것도 그만이다 어쩔수 없다 하나 일 일반적으로 일단 한켠으로는 오자마자 이렇게되면 이와같다면 전부 한마디 한항목 근거로 하기에 아울러 하지 않도록 않기 위해서 이르기까지 이 되다 로 인하여 까닭으로 이유만으로 이로 인하여 그래서 이 때문에 그러므로 그런 까닭에 알 수 있다 결론을 낼 수 있다 으로 인하여 있다 어떤것 관계가 있다 관련이 있다 연관되다 어떤것들 에 대해 이리하여 그리하여 여부 하기보다는 하느니 하면 할수록 운운 이러이러하다 하구나 하도다 다시말하면 다음으로 에 있다 에 달려 있다 우리 우리들 오히려 하기는한데 어떻게 어떻해 어찌됏어 어때 어째서 본대로 자 이 이쪽 여기 이것 이번 이렇게말하자면 이런 이러한 이와 같은 요만큼 요만한 것 얼마 안 되는 것 이만큼 이 정도의 이렇게 많은 것 이와 같다 이때 이렇구나 것과 같이 끼익 삐걱 따위 와 같은 사람들 부류의 사람들 왜냐하면 중의하나 오직 오로지 에 한하다 하기만 하면 도착하다 까지 미치다 도달하다 정도에 이르다 할 지경이다 결과에 이르다 관해서는 여러분 하고 있다 한 후 혼자 자기 자기집 자신 우에 종합한것과같이 총적으로 보면 총적으로 말하면 총적으로 대로 하다 으로서 참 그만이다 할 따름이다 쿵 탕탕 쾅쾅 둥둥 봐 봐라 아이야 아니 와아 응 아이 참나 년 월 일 령 영 일 이 삼 사 오 육 륙 칠 팔 구 이천육 이천칠 이천팔 이천구 하나 둘 셋 넷 다섯 여섯 일곱 여덟 아홉 령 영 이 있 하 것 들 그 되 수 이 보 않 없 나 사람 주 아니 등 같 우리 때 년 가 한 지 대하 오 말 일 그렇 위하 때문 그것 두 말하 알 그러나 받 못하 일 그런 또 문제 더 사회 많 그리고 좋 크 따르 중 나오 가지 씨 시키 만들 지금 생각하 그러 속 하나 집 살 모르 적 월 데 자신 안 어떤 내 내 경우 명 생각 시간 그녀 다시 이런 앞 보이 번 나 다른 어떻 여자 개 전 들 사실 이렇 점 싶 말 정도 좀 원 잘 통하 놓 순이'\n",
    "stop_words = stop_words.split(' ')\n",
    "for content_1 in 순이_대화내용:\n",
    "    content_1 = content_1.replace('!', ' ')\n",
    "    content_1 = content_1.replace('?', ' ')\n",
    "    content_1 = content_1.replace('.', ' ')\n",
    "    content_1 = content_1.replace(',', ' ')\n",
    "    for content in content_1:\n",
    "        content_list = content_1.split(' ')[1:]\n",
    "        for content in content_list:\n",
    "            if content not in stop_words:\n",
    "                contents_total.append(content)\n",
    "content_counts = Counter(contents_total)\n",
    "font_path = 'C:/Windows/Fonts/HMFMPYUN.TTF'\n",
    "wordcloud = WordCloud(font_path = font_path,\n",
    "                      background_color='white',\n",
    "                      max_words = 10,\n",
    "                     ).generate_from_frequencies(content_counts)\n",
    "plt.figure(figsize=(10,8))\n",
    "plt.imshow(wordcloud)\n",
    "plt.axis('off')\n",
    "plt.savefig(user_img_dir_path + '/' + ID + '_대화워드클라우드.png')\n"
   ]
  },
  {
   "cell_type": "code",
   "execution_count": null,
   "id": "34344f17",
   "metadata": {},
   "outputs": [],
   "source": []
  },
  {
   "cell_type": "code",
   "execution_count": null,
   "id": "d5066401",
   "metadata": {},
   "outputs": [],
   "source": []
  },
  {
   "cell_type": "markdown",
   "id": "7904a5ed",
   "metadata": {},
   "source": [
    "# 시간대 별로 가장 많이하는 행동 (시각화 이미지 생성)\n",
    "## 'Z'컬럼"
   ]
  },
  {
   "cell_type": "code",
   "execution_count": 77,
   "id": "b734f724",
   "metadata": {},
   "outputs": [],
   "source": [
    "#plotly 함수 정의\n",
    "\n",
    "def plot_life_pattern(col):\n",
    "    시간대별가장많이하는행동 = pd.DataFrame()\n",
    "    시간대별가장많이하는행동['hour'] = np.array(range(24))\n",
    "    State_list = []\n",
    "    State_list_frequency = []\n",
    "    for i in range(24):\n",
    "        try:\n",
    "            State_list.append(data[data['hour'] == i].pivot_table(index = col, values = 'owner_id', aggfunc = 'count').sort_values('owner_id', ascending = False).index[0])\n",
    "            State_list_frequency.append(data[data['hour'] == i].pivot_table(index = col, values = 'owner_id', aggfunc = 'count').sort_values('owner_id', ascending = False)['owner_id'][0])\n",
    "        except:\n",
    "            State_list.append('기록없음')\n",
    "            State_list_frequency.append(0)\n",
    "    시간대별가장많이하는행동[col] = pd.Series(State_list)\n",
    "    시간대별가장많이하는행동['Frequency'] = pd.Series(State_list_frequency)\n",
    "    시간대별가장많이하는행동\n",
    "    fig = px.bar(시간대별가장많이하는행동, x='hour', y=\"Frequency\",text=col)\n",
    "    fig.update_layout(\n",
    "        title = \"시간대별 가장 많이 하는 행동\",\n",
    "        width=1000,\n",
    "        height=600,\n",
    "        xaxis_title = \"시간대\",\n",
    "        yaxis_title = '빈도수',\n",
    "        font=dict(size = 20)\n",
    "    )\n",
    "    if(col == 'Act'):\n",
    "        fig.write_image(user_img_dir_path + '/' + ID + \"_\" + col +'_시간대별가장많이식별된행동들.png')\n",
    "#     fig.show()\n",
    "    return 시간대별가장많이하는행동\n",
    "pd_Act = plot_life_pattern('Act')"
   ]
  },
  {
   "cell_type": "markdown",
   "id": "e1bff1de",
   "metadata": {},
   "source": [
    "# 가장 많이 하는 행동 시각화(treeplot)\n",
    "## Z컬럼"
   ]
  },
  {
   "cell_type": "code",
   "execution_count": 91,
   "id": "5f0692ce",
   "metadata": {},
   "outputs": [],
   "source": [
    "def plot_most_behavior_treemap(col):\n",
    "    count  = data.pivot_table(index=[col],values = 'owner_id',aggfunc='count').reset_index()\n",
    "    fig = px.treemap(count, path = [col],values = 'owner_id')\n",
    "    fig.update_layout(\n",
    "        title = \"요일별 가장 많이 하는 행동\",\n",
    "#         xaxis_title = \"시간대\",\n",
    "#         yaxis_title = '빈도수',\n",
    "        width=1300,\n",
    "        height=1000,\n",
    "        font=dict(size = 20)\n",
    "    )\n",
    "    if(col == 'Act'):\n",
    "        fig.write_image(user_img_dir_path + '/' + ID + '_' + col +'_가장많이하는행동들(tree_map).png')\n",
    "    fig.show()\n",
    "    \n",
    "def plot_most_behavior_piechart(col):\n",
    "    count = data.pivot_table(index=[col],values = 'owner_id',aggfunc='count').sort_values('owner_id',ascending=False).reset_index()\n",
    "    count_others = count[7:].sum()\n",
    "    print(count)\n",
    "    list_most_top4 = list(count['State'][:4])\n",
    "    print(list_most_top4)\n",
    "    \n",
    "    count_others[col] = '기타'\n",
    "    count = count[:7]\n",
    "    count = count.append(pd.Series(count_others),ignore_index=True)\n",
    "    labels = count[col]\n",
    "    values = count['owner_id']\n",
    "    fig = go.Figure(data=[go.Pie(labels=labels, values=values, textinfo='label+percent',pull=[0.1,0.08, 0])])\n",
    "    if(col == 'State'):\n",
    "        fig.write_image(user_img_dir_path + '/' + ID + '_' + col +'_가장많이하는행동들.png')\n",
    "    fig.show()\n",
    "    return list_most_top4"
   ]
  },
  {
   "cell_type": "markdown",
   "id": "0d1b34d3",
   "metadata": {},
   "source": [
    "## Act 컬럼"
   ]
  },
  {
   "cell_type": "code",
   "execution_count": 92,
   "id": "03a3553e",
   "metadata": {},
   "outputs": [],
   "source": [
    "# list_most_top4 = plot_most_behavior_piechart('Act')\n"
   ]
  },
  {
   "cell_type": "markdown",
   "id": "084a9222",
   "metadata": {},
   "source": [
    "## State 컬럼"
   ]
  },
  {
   "cell_type": "code",
   "execution_count": 93,
   "id": "62fb64ab",
   "metadata": {
    "scrolled": true
   },
   "outputs": [
    {
     "name": "stdout",
     "output_type": "stream",
     "text": [
      "         State  owner_id\n",
      "0         외출하기        35\n",
      "1         귀가하기        32\n",
      "2         취미활동        22\n",
      "3        TV 보기        20\n",
      "4           수면        14\n",
      "5         기상하기         9\n",
      "6        간식 먹기         6\n",
      "7        밥솥 열기         5\n",
      "8       집 환기하기         4\n",
      "9     간편식 준비하기         4\n",
      "10        낮잠자기         4\n",
      "11        듣는대화         3\n",
      "12       뉴스 시청         3\n",
      "13      음식 꺼내기         3\n",
      "14        노래자랑         3\n",
      "15      실외운동하기         3\n",
      "16      도전 실버벨         2\n",
      "17     낮잠 기상하기         2\n",
      "18     이른 기상하기         2\n",
      "19        순이대화         2\n",
      "20        순이체조         2\n",
      "21  식사 중 TV 시청         2\n",
      "22          조식         2\n",
      "23          중식         1\n",
      "24     순이 특별대화         1\n",
      "25        순이극장         1\n",
      "26     밥솥 정리하기         1\n",
      "27      마음스트레칭         1\n",
      "28     늦은 기상하기         1\n",
      "29          석식         1\n",
      "['외출하기', '귀가하기', '취미활동', 'TV 보기']\n"
     ]
    },
    {
     "data": {
      "application/vnd.plotly.v1+json": {
       "config": {
        "plotlyServerURL": "https://plot.ly"
       },
       "data": [
        {
         "labels": [
          "외출하기",
          "귀가하기",
          "취미활동",
          "TV 보기",
          "수면",
          "기상하기",
          "간식 먹기",
          "기타"
         ],
         "pull": [
          0.1,
          0.08,
          0
         ],
         "textinfo": "label+percent",
         "type": "pie",
         "values": [
          35,
          32,
          22,
          20,
          14,
          9,
          6,
          53
         ]
        }
       ],
       "layout": {
        "template": {
         "data": {
          "bar": [
           {
            "error_x": {
             "color": "#2a3f5f"
            },
            "error_y": {
             "color": "#2a3f5f"
            },
            "marker": {
             "line": {
              "color": "#E5ECF6",
              "width": 0.5
             },
             "pattern": {
              "fillmode": "overlay",
              "size": 10,
              "solidity": 0.2
             }
            },
            "type": "bar"
           }
          ],
          "barpolar": [
           {
            "marker": {
             "line": {
              "color": "#E5ECF6",
              "width": 0.5
             },
             "pattern": {
              "fillmode": "overlay",
              "size": 10,
              "solidity": 0.2
             }
            },
            "type": "barpolar"
           }
          ],
          "carpet": [
           {
            "aaxis": {
             "endlinecolor": "#2a3f5f",
             "gridcolor": "white",
             "linecolor": "white",
             "minorgridcolor": "white",
             "startlinecolor": "#2a3f5f"
            },
            "baxis": {
             "endlinecolor": "#2a3f5f",
             "gridcolor": "white",
             "linecolor": "white",
             "minorgridcolor": "white",
             "startlinecolor": "#2a3f5f"
            },
            "type": "carpet"
           }
          ],
          "choropleth": [
           {
            "colorbar": {
             "outlinewidth": 0,
             "ticks": ""
            },
            "type": "choropleth"
           }
          ],
          "contour": [
           {
            "colorbar": {
             "outlinewidth": 0,
             "ticks": ""
            },
            "colorscale": [
             [
              0,
              "#0d0887"
             ],
             [
              0.1111111111111111,
              "#46039f"
             ],
             [
              0.2222222222222222,
              "#7201a8"
             ],
             [
              0.3333333333333333,
              "#9c179e"
             ],
             [
              0.4444444444444444,
              "#bd3786"
             ],
             [
              0.5555555555555556,
              "#d8576b"
             ],
             [
              0.6666666666666666,
              "#ed7953"
             ],
             [
              0.7777777777777778,
              "#fb9f3a"
             ],
             [
              0.8888888888888888,
              "#fdca26"
             ],
             [
              1,
              "#f0f921"
             ]
            ],
            "type": "contour"
           }
          ],
          "contourcarpet": [
           {
            "colorbar": {
             "outlinewidth": 0,
             "ticks": ""
            },
            "type": "contourcarpet"
           }
          ],
          "heatmap": [
           {
            "colorbar": {
             "outlinewidth": 0,
             "ticks": ""
            },
            "colorscale": [
             [
              0,
              "#0d0887"
             ],
             [
              0.1111111111111111,
              "#46039f"
             ],
             [
              0.2222222222222222,
              "#7201a8"
             ],
             [
              0.3333333333333333,
              "#9c179e"
             ],
             [
              0.4444444444444444,
              "#bd3786"
             ],
             [
              0.5555555555555556,
              "#d8576b"
             ],
             [
              0.6666666666666666,
              "#ed7953"
             ],
             [
              0.7777777777777778,
              "#fb9f3a"
             ],
             [
              0.8888888888888888,
              "#fdca26"
             ],
             [
              1,
              "#f0f921"
             ]
            ],
            "type": "heatmap"
           }
          ],
          "heatmapgl": [
           {
            "colorbar": {
             "outlinewidth": 0,
             "ticks": ""
            },
            "colorscale": [
             [
              0,
              "#0d0887"
             ],
             [
              0.1111111111111111,
              "#46039f"
             ],
             [
              0.2222222222222222,
              "#7201a8"
             ],
             [
              0.3333333333333333,
              "#9c179e"
             ],
             [
              0.4444444444444444,
              "#bd3786"
             ],
             [
              0.5555555555555556,
              "#d8576b"
             ],
             [
              0.6666666666666666,
              "#ed7953"
             ],
             [
              0.7777777777777778,
              "#fb9f3a"
             ],
             [
              0.8888888888888888,
              "#fdca26"
             ],
             [
              1,
              "#f0f921"
             ]
            ],
            "type": "heatmapgl"
           }
          ],
          "histogram": [
           {
            "marker": {
             "pattern": {
              "fillmode": "overlay",
              "size": 10,
              "solidity": 0.2
             }
            },
            "type": "histogram"
           }
          ],
          "histogram2d": [
           {
            "colorbar": {
             "outlinewidth": 0,
             "ticks": ""
            },
            "colorscale": [
             [
              0,
              "#0d0887"
             ],
             [
              0.1111111111111111,
              "#46039f"
             ],
             [
              0.2222222222222222,
              "#7201a8"
             ],
             [
              0.3333333333333333,
              "#9c179e"
             ],
             [
              0.4444444444444444,
              "#bd3786"
             ],
             [
              0.5555555555555556,
              "#d8576b"
             ],
             [
              0.6666666666666666,
              "#ed7953"
             ],
             [
              0.7777777777777778,
              "#fb9f3a"
             ],
             [
              0.8888888888888888,
              "#fdca26"
             ],
             [
              1,
              "#f0f921"
             ]
            ],
            "type": "histogram2d"
           }
          ],
          "histogram2dcontour": [
           {
            "colorbar": {
             "outlinewidth": 0,
             "ticks": ""
            },
            "colorscale": [
             [
              0,
              "#0d0887"
             ],
             [
              0.1111111111111111,
              "#46039f"
             ],
             [
              0.2222222222222222,
              "#7201a8"
             ],
             [
              0.3333333333333333,
              "#9c179e"
             ],
             [
              0.4444444444444444,
              "#bd3786"
             ],
             [
              0.5555555555555556,
              "#d8576b"
             ],
             [
              0.6666666666666666,
              "#ed7953"
             ],
             [
              0.7777777777777778,
              "#fb9f3a"
             ],
             [
              0.8888888888888888,
              "#fdca26"
             ],
             [
              1,
              "#f0f921"
             ]
            ],
            "type": "histogram2dcontour"
           }
          ],
          "mesh3d": [
           {
            "colorbar": {
             "outlinewidth": 0,
             "ticks": ""
            },
            "type": "mesh3d"
           }
          ],
          "parcoords": [
           {
            "line": {
             "colorbar": {
              "outlinewidth": 0,
              "ticks": ""
             }
            },
            "type": "parcoords"
           }
          ],
          "pie": [
           {
            "automargin": true,
            "type": "pie"
           }
          ],
          "scatter": [
           {
            "marker": {
             "colorbar": {
              "outlinewidth": 0,
              "ticks": ""
             }
            },
            "type": "scatter"
           }
          ],
          "scatter3d": [
           {
            "line": {
             "colorbar": {
              "outlinewidth": 0,
              "ticks": ""
             }
            },
            "marker": {
             "colorbar": {
              "outlinewidth": 0,
              "ticks": ""
             }
            },
            "type": "scatter3d"
           }
          ],
          "scattercarpet": [
           {
            "marker": {
             "colorbar": {
              "outlinewidth": 0,
              "ticks": ""
             }
            },
            "type": "scattercarpet"
           }
          ],
          "scattergeo": [
           {
            "marker": {
             "colorbar": {
              "outlinewidth": 0,
              "ticks": ""
             }
            },
            "type": "scattergeo"
           }
          ],
          "scattergl": [
           {
            "marker": {
             "colorbar": {
              "outlinewidth": 0,
              "ticks": ""
             }
            },
            "type": "scattergl"
           }
          ],
          "scattermapbox": [
           {
            "marker": {
             "colorbar": {
              "outlinewidth": 0,
              "ticks": ""
             }
            },
            "type": "scattermapbox"
           }
          ],
          "scatterpolar": [
           {
            "marker": {
             "colorbar": {
              "outlinewidth": 0,
              "ticks": ""
             }
            },
            "type": "scatterpolar"
           }
          ],
          "scatterpolargl": [
           {
            "marker": {
             "colorbar": {
              "outlinewidth": 0,
              "ticks": ""
             }
            },
            "type": "scatterpolargl"
           }
          ],
          "scatterternary": [
           {
            "marker": {
             "colorbar": {
              "outlinewidth": 0,
              "ticks": ""
             }
            },
            "type": "scatterternary"
           }
          ],
          "surface": [
           {
            "colorbar": {
             "outlinewidth": 0,
             "ticks": ""
            },
            "colorscale": [
             [
              0,
              "#0d0887"
             ],
             [
              0.1111111111111111,
              "#46039f"
             ],
             [
              0.2222222222222222,
              "#7201a8"
             ],
             [
              0.3333333333333333,
              "#9c179e"
             ],
             [
              0.4444444444444444,
              "#bd3786"
             ],
             [
              0.5555555555555556,
              "#d8576b"
             ],
             [
              0.6666666666666666,
              "#ed7953"
             ],
             [
              0.7777777777777778,
              "#fb9f3a"
             ],
             [
              0.8888888888888888,
              "#fdca26"
             ],
             [
              1,
              "#f0f921"
             ]
            ],
            "type": "surface"
           }
          ],
          "table": [
           {
            "cells": {
             "fill": {
              "color": "#EBF0F8"
             },
             "line": {
              "color": "white"
             }
            },
            "header": {
             "fill": {
              "color": "#C8D4E3"
             },
             "line": {
              "color": "white"
             }
            },
            "type": "table"
           }
          ]
         },
         "layout": {
          "annotationdefaults": {
           "arrowcolor": "#2a3f5f",
           "arrowhead": 0,
           "arrowwidth": 1
          },
          "autotypenumbers": "strict",
          "coloraxis": {
           "colorbar": {
            "outlinewidth": 0,
            "ticks": ""
           }
          },
          "colorscale": {
           "diverging": [
            [
             0,
             "#8e0152"
            ],
            [
             0.1,
             "#c51b7d"
            ],
            [
             0.2,
             "#de77ae"
            ],
            [
             0.3,
             "#f1b6da"
            ],
            [
             0.4,
             "#fde0ef"
            ],
            [
             0.5,
             "#f7f7f7"
            ],
            [
             0.6,
             "#e6f5d0"
            ],
            [
             0.7,
             "#b8e186"
            ],
            [
             0.8,
             "#7fbc41"
            ],
            [
             0.9,
             "#4d9221"
            ],
            [
             1,
             "#276419"
            ]
           ],
           "sequential": [
            [
             0,
             "#0d0887"
            ],
            [
             0.1111111111111111,
             "#46039f"
            ],
            [
             0.2222222222222222,
             "#7201a8"
            ],
            [
             0.3333333333333333,
             "#9c179e"
            ],
            [
             0.4444444444444444,
             "#bd3786"
            ],
            [
             0.5555555555555556,
             "#d8576b"
            ],
            [
             0.6666666666666666,
             "#ed7953"
            ],
            [
             0.7777777777777778,
             "#fb9f3a"
            ],
            [
             0.8888888888888888,
             "#fdca26"
            ],
            [
             1,
             "#f0f921"
            ]
           ],
           "sequentialminus": [
            [
             0,
             "#0d0887"
            ],
            [
             0.1111111111111111,
             "#46039f"
            ],
            [
             0.2222222222222222,
             "#7201a8"
            ],
            [
             0.3333333333333333,
             "#9c179e"
            ],
            [
             0.4444444444444444,
             "#bd3786"
            ],
            [
             0.5555555555555556,
             "#d8576b"
            ],
            [
             0.6666666666666666,
             "#ed7953"
            ],
            [
             0.7777777777777778,
             "#fb9f3a"
            ],
            [
             0.8888888888888888,
             "#fdca26"
            ],
            [
             1,
             "#f0f921"
            ]
           ]
          },
          "colorway": [
           "#636efa",
           "#EF553B",
           "#00cc96",
           "#ab63fa",
           "#FFA15A",
           "#19d3f3",
           "#FF6692",
           "#B6E880",
           "#FF97FF",
           "#FECB52"
          ],
          "font": {
           "color": "#2a3f5f"
          },
          "geo": {
           "bgcolor": "white",
           "lakecolor": "white",
           "landcolor": "#E5ECF6",
           "showlakes": true,
           "showland": true,
           "subunitcolor": "white"
          },
          "hoverlabel": {
           "align": "left"
          },
          "hovermode": "closest",
          "mapbox": {
           "style": "light"
          },
          "paper_bgcolor": "white",
          "plot_bgcolor": "#E5ECF6",
          "polar": {
           "angularaxis": {
            "gridcolor": "white",
            "linecolor": "white",
            "ticks": ""
           },
           "bgcolor": "#E5ECF6",
           "radialaxis": {
            "gridcolor": "white",
            "linecolor": "white",
            "ticks": ""
           }
          },
          "scene": {
           "xaxis": {
            "backgroundcolor": "#E5ECF6",
            "gridcolor": "white",
            "gridwidth": 2,
            "linecolor": "white",
            "showbackground": true,
            "ticks": "",
            "zerolinecolor": "white"
           },
           "yaxis": {
            "backgroundcolor": "#E5ECF6",
            "gridcolor": "white",
            "gridwidth": 2,
            "linecolor": "white",
            "showbackground": true,
            "ticks": "",
            "zerolinecolor": "white"
           },
           "zaxis": {
            "backgroundcolor": "#E5ECF6",
            "gridcolor": "white",
            "gridwidth": 2,
            "linecolor": "white",
            "showbackground": true,
            "ticks": "",
            "zerolinecolor": "white"
           }
          },
          "shapedefaults": {
           "line": {
            "color": "#2a3f5f"
           }
          },
          "ternary": {
           "aaxis": {
            "gridcolor": "white",
            "linecolor": "white",
            "ticks": ""
           },
           "baxis": {
            "gridcolor": "white",
            "linecolor": "white",
            "ticks": ""
           },
           "bgcolor": "#E5ECF6",
           "caxis": {
            "gridcolor": "white",
            "linecolor": "white",
            "ticks": ""
           }
          },
          "title": {
           "x": 0.05
          },
          "xaxis": {
           "automargin": true,
           "gridcolor": "white",
           "linecolor": "white",
           "ticks": "",
           "title": {
            "standoff": 15
           },
           "zerolinecolor": "white",
           "zerolinewidth": 2
          },
          "yaxis": {
           "automargin": true,
           "gridcolor": "white",
           "linecolor": "white",
           "ticks": "",
           "title": {
            "standoff": 15
           },
           "zerolinecolor": "white",
           "zerolinewidth": 2
          }
         }
        }
       }
      },
      "text/html": [
       "<div>                            <div id=\"42811e26-1e07-4c5d-975a-8ebaba3fea2b\" class=\"plotly-graph-div\" style=\"height:525px; width:100%;\"></div>            <script type=\"text/javascript\">                require([\"plotly\"], function(Plotly) {                    window.PLOTLYENV=window.PLOTLYENV || {};                                    if (document.getElementById(\"42811e26-1e07-4c5d-975a-8ebaba3fea2b\")) {                    Plotly.newPlot(                        \"42811e26-1e07-4c5d-975a-8ebaba3fea2b\",                        [{\"labels\":[\"\\uc678\\ucd9c\\ud558\\uae30\",\"\\uadc0\\uac00\\ud558\\uae30\",\"\\ucde8\\ubbf8\\ud65c\\ub3d9\",\"TV \\ubcf4\\uae30\",\"\\uc218\\uba74\",\"\\uae30\\uc0c1\\ud558\\uae30\",\"\\uac04\\uc2dd \\uba39\\uae30\",\"\\uae30\\ud0c0\"],\"pull\":[0.1,0.08,0],\"textinfo\":\"label+percent\",\"type\":\"pie\",\"values\":[35,32,22,20,14,9,6,53]}],                        {\"template\":{\"data\":{\"bar\":[{\"error_x\":{\"color\":\"#2a3f5f\"},\"error_y\":{\"color\":\"#2a3f5f\"},\"marker\":{\"line\":{\"color\":\"#E5ECF6\",\"width\":0.5},\"pattern\":{\"fillmode\":\"overlay\",\"size\":10,\"solidity\":0.2}},\"type\":\"bar\"}],\"barpolar\":[{\"marker\":{\"line\":{\"color\":\"#E5ECF6\",\"width\":0.5},\"pattern\":{\"fillmode\":\"overlay\",\"size\":10,\"solidity\":0.2}},\"type\":\"barpolar\"}],\"carpet\":[{\"aaxis\":{\"endlinecolor\":\"#2a3f5f\",\"gridcolor\":\"white\",\"linecolor\":\"white\",\"minorgridcolor\":\"white\",\"startlinecolor\":\"#2a3f5f\"},\"baxis\":{\"endlinecolor\":\"#2a3f5f\",\"gridcolor\":\"white\",\"linecolor\":\"white\",\"minorgridcolor\":\"white\",\"startlinecolor\":\"#2a3f5f\"},\"type\":\"carpet\"}],\"choropleth\":[{\"colorbar\":{\"outlinewidth\":0,\"ticks\":\"\"},\"type\":\"choropleth\"}],\"contour\":[{\"colorbar\":{\"outlinewidth\":0,\"ticks\":\"\"},\"colorscale\":[[0.0,\"#0d0887\"],[0.1111111111111111,\"#46039f\"],[0.2222222222222222,\"#7201a8\"],[0.3333333333333333,\"#9c179e\"],[0.4444444444444444,\"#bd3786\"],[0.5555555555555556,\"#d8576b\"],[0.6666666666666666,\"#ed7953\"],[0.7777777777777778,\"#fb9f3a\"],[0.8888888888888888,\"#fdca26\"],[1.0,\"#f0f921\"]],\"type\":\"contour\"}],\"contourcarpet\":[{\"colorbar\":{\"outlinewidth\":0,\"ticks\":\"\"},\"type\":\"contourcarpet\"}],\"heatmap\":[{\"colorbar\":{\"outlinewidth\":0,\"ticks\":\"\"},\"colorscale\":[[0.0,\"#0d0887\"],[0.1111111111111111,\"#46039f\"],[0.2222222222222222,\"#7201a8\"],[0.3333333333333333,\"#9c179e\"],[0.4444444444444444,\"#bd3786\"],[0.5555555555555556,\"#d8576b\"],[0.6666666666666666,\"#ed7953\"],[0.7777777777777778,\"#fb9f3a\"],[0.8888888888888888,\"#fdca26\"],[1.0,\"#f0f921\"]],\"type\":\"heatmap\"}],\"heatmapgl\":[{\"colorbar\":{\"outlinewidth\":0,\"ticks\":\"\"},\"colorscale\":[[0.0,\"#0d0887\"],[0.1111111111111111,\"#46039f\"],[0.2222222222222222,\"#7201a8\"],[0.3333333333333333,\"#9c179e\"],[0.4444444444444444,\"#bd3786\"],[0.5555555555555556,\"#d8576b\"],[0.6666666666666666,\"#ed7953\"],[0.7777777777777778,\"#fb9f3a\"],[0.8888888888888888,\"#fdca26\"],[1.0,\"#f0f921\"]],\"type\":\"heatmapgl\"}],\"histogram\":[{\"marker\":{\"pattern\":{\"fillmode\":\"overlay\",\"size\":10,\"solidity\":0.2}},\"type\":\"histogram\"}],\"histogram2d\":[{\"colorbar\":{\"outlinewidth\":0,\"ticks\":\"\"},\"colorscale\":[[0.0,\"#0d0887\"],[0.1111111111111111,\"#46039f\"],[0.2222222222222222,\"#7201a8\"],[0.3333333333333333,\"#9c179e\"],[0.4444444444444444,\"#bd3786\"],[0.5555555555555556,\"#d8576b\"],[0.6666666666666666,\"#ed7953\"],[0.7777777777777778,\"#fb9f3a\"],[0.8888888888888888,\"#fdca26\"],[1.0,\"#f0f921\"]],\"type\":\"histogram2d\"}],\"histogram2dcontour\":[{\"colorbar\":{\"outlinewidth\":0,\"ticks\":\"\"},\"colorscale\":[[0.0,\"#0d0887\"],[0.1111111111111111,\"#46039f\"],[0.2222222222222222,\"#7201a8\"],[0.3333333333333333,\"#9c179e\"],[0.4444444444444444,\"#bd3786\"],[0.5555555555555556,\"#d8576b\"],[0.6666666666666666,\"#ed7953\"],[0.7777777777777778,\"#fb9f3a\"],[0.8888888888888888,\"#fdca26\"],[1.0,\"#f0f921\"]],\"type\":\"histogram2dcontour\"}],\"mesh3d\":[{\"colorbar\":{\"outlinewidth\":0,\"ticks\":\"\"},\"type\":\"mesh3d\"}],\"parcoords\":[{\"line\":{\"colorbar\":{\"outlinewidth\":0,\"ticks\":\"\"}},\"type\":\"parcoords\"}],\"pie\":[{\"automargin\":true,\"type\":\"pie\"}],\"scatter\":[{\"marker\":{\"colorbar\":{\"outlinewidth\":0,\"ticks\":\"\"}},\"type\":\"scatter\"}],\"scatter3d\":[{\"line\":{\"colorbar\":{\"outlinewidth\":0,\"ticks\":\"\"}},\"marker\":{\"colorbar\":{\"outlinewidth\":0,\"ticks\":\"\"}},\"type\":\"scatter3d\"}],\"scattercarpet\":[{\"marker\":{\"colorbar\":{\"outlinewidth\":0,\"ticks\":\"\"}},\"type\":\"scattercarpet\"}],\"scattergeo\":[{\"marker\":{\"colorbar\":{\"outlinewidth\":0,\"ticks\":\"\"}},\"type\":\"scattergeo\"}],\"scattergl\":[{\"marker\":{\"colorbar\":{\"outlinewidth\":0,\"ticks\":\"\"}},\"type\":\"scattergl\"}],\"scattermapbox\":[{\"marker\":{\"colorbar\":{\"outlinewidth\":0,\"ticks\":\"\"}},\"type\":\"scattermapbox\"}],\"scatterpolar\":[{\"marker\":{\"colorbar\":{\"outlinewidth\":0,\"ticks\":\"\"}},\"type\":\"scatterpolar\"}],\"scatterpolargl\":[{\"marker\":{\"colorbar\":{\"outlinewidth\":0,\"ticks\":\"\"}},\"type\":\"scatterpolargl\"}],\"scatterternary\":[{\"marker\":{\"colorbar\":{\"outlinewidth\":0,\"ticks\":\"\"}},\"type\":\"scatterternary\"}],\"surface\":[{\"colorbar\":{\"outlinewidth\":0,\"ticks\":\"\"},\"colorscale\":[[0.0,\"#0d0887\"],[0.1111111111111111,\"#46039f\"],[0.2222222222222222,\"#7201a8\"],[0.3333333333333333,\"#9c179e\"],[0.4444444444444444,\"#bd3786\"],[0.5555555555555556,\"#d8576b\"],[0.6666666666666666,\"#ed7953\"],[0.7777777777777778,\"#fb9f3a\"],[0.8888888888888888,\"#fdca26\"],[1.0,\"#f0f921\"]],\"type\":\"surface\"}],\"table\":[{\"cells\":{\"fill\":{\"color\":\"#EBF0F8\"},\"line\":{\"color\":\"white\"}},\"header\":{\"fill\":{\"color\":\"#C8D4E3\"},\"line\":{\"color\":\"white\"}},\"type\":\"table\"}]},\"layout\":{\"annotationdefaults\":{\"arrowcolor\":\"#2a3f5f\",\"arrowhead\":0,\"arrowwidth\":1},\"autotypenumbers\":\"strict\",\"coloraxis\":{\"colorbar\":{\"outlinewidth\":0,\"ticks\":\"\"}},\"colorscale\":{\"diverging\":[[0,\"#8e0152\"],[0.1,\"#c51b7d\"],[0.2,\"#de77ae\"],[0.3,\"#f1b6da\"],[0.4,\"#fde0ef\"],[0.5,\"#f7f7f7\"],[0.6,\"#e6f5d0\"],[0.7,\"#b8e186\"],[0.8,\"#7fbc41\"],[0.9,\"#4d9221\"],[1,\"#276419\"]],\"sequential\":[[0.0,\"#0d0887\"],[0.1111111111111111,\"#46039f\"],[0.2222222222222222,\"#7201a8\"],[0.3333333333333333,\"#9c179e\"],[0.4444444444444444,\"#bd3786\"],[0.5555555555555556,\"#d8576b\"],[0.6666666666666666,\"#ed7953\"],[0.7777777777777778,\"#fb9f3a\"],[0.8888888888888888,\"#fdca26\"],[1.0,\"#f0f921\"]],\"sequentialminus\":[[0.0,\"#0d0887\"],[0.1111111111111111,\"#46039f\"],[0.2222222222222222,\"#7201a8\"],[0.3333333333333333,\"#9c179e\"],[0.4444444444444444,\"#bd3786\"],[0.5555555555555556,\"#d8576b\"],[0.6666666666666666,\"#ed7953\"],[0.7777777777777778,\"#fb9f3a\"],[0.8888888888888888,\"#fdca26\"],[1.0,\"#f0f921\"]]},\"colorway\":[\"#636efa\",\"#EF553B\",\"#00cc96\",\"#ab63fa\",\"#FFA15A\",\"#19d3f3\",\"#FF6692\",\"#B6E880\",\"#FF97FF\",\"#FECB52\"],\"font\":{\"color\":\"#2a3f5f\"},\"geo\":{\"bgcolor\":\"white\",\"lakecolor\":\"white\",\"landcolor\":\"#E5ECF6\",\"showlakes\":true,\"showland\":true,\"subunitcolor\":\"white\"},\"hoverlabel\":{\"align\":\"left\"},\"hovermode\":\"closest\",\"mapbox\":{\"style\":\"light\"},\"paper_bgcolor\":\"white\",\"plot_bgcolor\":\"#E5ECF6\",\"polar\":{\"angularaxis\":{\"gridcolor\":\"white\",\"linecolor\":\"white\",\"ticks\":\"\"},\"bgcolor\":\"#E5ECF6\",\"radialaxis\":{\"gridcolor\":\"white\",\"linecolor\":\"white\",\"ticks\":\"\"}},\"scene\":{\"xaxis\":{\"backgroundcolor\":\"#E5ECF6\",\"gridcolor\":\"white\",\"gridwidth\":2,\"linecolor\":\"white\",\"showbackground\":true,\"ticks\":\"\",\"zerolinecolor\":\"white\"},\"yaxis\":{\"backgroundcolor\":\"#E5ECF6\",\"gridcolor\":\"white\",\"gridwidth\":2,\"linecolor\":\"white\",\"showbackground\":true,\"ticks\":\"\",\"zerolinecolor\":\"white\"},\"zaxis\":{\"backgroundcolor\":\"#E5ECF6\",\"gridcolor\":\"white\",\"gridwidth\":2,\"linecolor\":\"white\",\"showbackground\":true,\"ticks\":\"\",\"zerolinecolor\":\"white\"}},\"shapedefaults\":{\"line\":{\"color\":\"#2a3f5f\"}},\"ternary\":{\"aaxis\":{\"gridcolor\":\"white\",\"linecolor\":\"white\",\"ticks\":\"\"},\"baxis\":{\"gridcolor\":\"white\",\"linecolor\":\"white\",\"ticks\":\"\"},\"bgcolor\":\"#E5ECF6\",\"caxis\":{\"gridcolor\":\"white\",\"linecolor\":\"white\",\"ticks\":\"\"}},\"title\":{\"x\":0.05},\"xaxis\":{\"automargin\":true,\"gridcolor\":\"white\",\"linecolor\":\"white\",\"ticks\":\"\",\"title\":{\"standoff\":15},\"zerolinecolor\":\"white\",\"zerolinewidth\":2},\"yaxis\":{\"automargin\":true,\"gridcolor\":\"white\",\"linecolor\":\"white\",\"ticks\":\"\",\"title\":{\"standoff\":15},\"zerolinecolor\":\"white\",\"zerolinewidth\":2}}}},                        {\"responsive\": true}                    ).then(function(){\n",
       "                            \n",
       "var gd = document.getElementById('42811e26-1e07-4c5d-975a-8ebaba3fea2b');\n",
       "var x = new MutationObserver(function (mutations, observer) {{\n",
       "        var display = window.getComputedStyle(gd).display;\n",
       "        if (!display || display === 'none') {{\n",
       "            console.log([gd, 'removed!']);\n",
       "            Plotly.purge(gd);\n",
       "            observer.disconnect();\n",
       "        }}\n",
       "}});\n",
       "\n",
       "// Listen for the removal of the full notebook cells\n",
       "var notebookContainer = gd.closest('#notebook-container');\n",
       "if (notebookContainer) {{\n",
       "    x.observe(notebookContainer, {childList: true});\n",
       "}}\n",
       "\n",
       "// Listen for the clearing of the current output cell\n",
       "var outputEl = gd.closest('.output');\n",
       "if (outputEl) {{\n",
       "    x.observe(outputEl, {childList: true});\n",
       "}}\n",
       "\n",
       "                        })                };                });            </script>        </div>"
      ]
     },
     "metadata": {},
     "output_type": "display_data"
    },
    {
     "data": {
      "text/plain": [
       "['외출하기', '귀가하기', '취미활동', 'TV 보기']"
      ]
     },
     "execution_count": 93,
     "metadata": {},
     "output_type": "execute_result"
    }
   ],
   "source": [
    "plot_most_behavior_piechart('State')"
   ]
  },
  {
   "cell_type": "code",
   "execution_count": 81,
   "id": "e8867161",
   "metadata": {},
   "outputs": [
    {
     "data": {
      "application/vnd.plotly.v1+json": {
       "config": {
        "plotlyServerURL": "https://plot.ly"
       },
       "data": [
        {
         "branchvalues": "total",
         "domain": {
          "x": [
           0,
           1
          ],
          "y": [
           0,
           1
          ]
         },
         "hovertemplate": "labels=%{label}<br>owner_id=%{value}<br>parent=%{parent}<br>id=%{id}<extra></extra>",
         "ids": [
          "TV시청",
          "간식",
          "귀가",
          "귀가, TV시청",
          "귀가, 밥준비",
          "귀가, 음식데우기",
          "귀가, 음식출납",
          "귀가, 환기",
          "기상",
          "기상, TV시청",
          "낮잠",
          "낮잠기상",
          "늦은기상",
          "밥솥정리",
          "밥준비",
          "식사중TV",
          "실외운동",
          "아침식사",
          "외출",
          "음식데우기",
          "음식출납",
          "이른기상",
          "이른기상, TV시청",
          "저녁식사",
          "점심식사",
          "취침",
          "프로그램 참여",
          "환기",
          "휴식"
         ],
         "labels": [
          "TV시청",
          "간식",
          "귀가",
          "귀가, TV시청",
          "귀가, 밥준비",
          "귀가, 음식데우기",
          "귀가, 음식출납",
          "귀가, 환기",
          "기상",
          "기상, TV시청",
          "낮잠",
          "낮잠기상",
          "늦은기상",
          "밥솥정리",
          "밥준비",
          "식사중TV",
          "실외운동",
          "아침식사",
          "외출",
          "음식데우기",
          "음식출납",
          "이른기상",
          "이른기상, TV시청",
          "저녁식사",
          "점심식사",
          "취침",
          "프로그램 참여",
          "환기",
          "휴식"
         ],
         "name": "",
         "parents": [
          "",
          "",
          "",
          "",
          "",
          "",
          "",
          "",
          "",
          "",
          "",
          "",
          "",
          "",
          "",
          "",
          "",
          "",
          "",
          "",
          "",
          "",
          "",
          "",
          "",
          "",
          "",
          "",
          ""
         ],
         "type": "treemap",
         "values": [
          17,
          6,
          25,
          6,
          2,
          2,
          2,
          2,
          7,
          4,
          4,
          2,
          1,
          1,
          4,
          2,
          3,
          2,
          35,
          3,
          2,
          1,
          2,
          1,
          1,
          14,
          15,
          3,
          22
         ]
        }
       ],
       "layout": {
        "font": {
         "size": 20
        },
        "height": 1000,
        "legend": {
         "tracegroupgap": 0
        },
        "margin": {
         "t": 60
        },
        "template": {
         "data": {
          "bar": [
           {
            "error_x": {
             "color": "#2a3f5f"
            },
            "error_y": {
             "color": "#2a3f5f"
            },
            "marker": {
             "line": {
              "color": "#E5ECF6",
              "width": 0.5
             },
             "pattern": {
              "fillmode": "overlay",
              "size": 10,
              "solidity": 0.2
             }
            },
            "type": "bar"
           }
          ],
          "barpolar": [
           {
            "marker": {
             "line": {
              "color": "#E5ECF6",
              "width": 0.5
             },
             "pattern": {
              "fillmode": "overlay",
              "size": 10,
              "solidity": 0.2
             }
            },
            "type": "barpolar"
           }
          ],
          "carpet": [
           {
            "aaxis": {
             "endlinecolor": "#2a3f5f",
             "gridcolor": "white",
             "linecolor": "white",
             "minorgridcolor": "white",
             "startlinecolor": "#2a3f5f"
            },
            "baxis": {
             "endlinecolor": "#2a3f5f",
             "gridcolor": "white",
             "linecolor": "white",
             "minorgridcolor": "white",
             "startlinecolor": "#2a3f5f"
            },
            "type": "carpet"
           }
          ],
          "choropleth": [
           {
            "colorbar": {
             "outlinewidth": 0,
             "ticks": ""
            },
            "type": "choropleth"
           }
          ],
          "contour": [
           {
            "colorbar": {
             "outlinewidth": 0,
             "ticks": ""
            },
            "colorscale": [
             [
              0,
              "#0d0887"
             ],
             [
              0.1111111111111111,
              "#46039f"
             ],
             [
              0.2222222222222222,
              "#7201a8"
             ],
             [
              0.3333333333333333,
              "#9c179e"
             ],
             [
              0.4444444444444444,
              "#bd3786"
             ],
             [
              0.5555555555555556,
              "#d8576b"
             ],
             [
              0.6666666666666666,
              "#ed7953"
             ],
             [
              0.7777777777777778,
              "#fb9f3a"
             ],
             [
              0.8888888888888888,
              "#fdca26"
             ],
             [
              1,
              "#f0f921"
             ]
            ],
            "type": "contour"
           }
          ],
          "contourcarpet": [
           {
            "colorbar": {
             "outlinewidth": 0,
             "ticks": ""
            },
            "type": "contourcarpet"
           }
          ],
          "heatmap": [
           {
            "colorbar": {
             "outlinewidth": 0,
             "ticks": ""
            },
            "colorscale": [
             [
              0,
              "#0d0887"
             ],
             [
              0.1111111111111111,
              "#46039f"
             ],
             [
              0.2222222222222222,
              "#7201a8"
             ],
             [
              0.3333333333333333,
              "#9c179e"
             ],
             [
              0.4444444444444444,
              "#bd3786"
             ],
             [
              0.5555555555555556,
              "#d8576b"
             ],
             [
              0.6666666666666666,
              "#ed7953"
             ],
             [
              0.7777777777777778,
              "#fb9f3a"
             ],
             [
              0.8888888888888888,
              "#fdca26"
             ],
             [
              1,
              "#f0f921"
             ]
            ],
            "type": "heatmap"
           }
          ],
          "heatmapgl": [
           {
            "colorbar": {
             "outlinewidth": 0,
             "ticks": ""
            },
            "colorscale": [
             [
              0,
              "#0d0887"
             ],
             [
              0.1111111111111111,
              "#46039f"
             ],
             [
              0.2222222222222222,
              "#7201a8"
             ],
             [
              0.3333333333333333,
              "#9c179e"
             ],
             [
              0.4444444444444444,
              "#bd3786"
             ],
             [
              0.5555555555555556,
              "#d8576b"
             ],
             [
              0.6666666666666666,
              "#ed7953"
             ],
             [
              0.7777777777777778,
              "#fb9f3a"
             ],
             [
              0.8888888888888888,
              "#fdca26"
             ],
             [
              1,
              "#f0f921"
             ]
            ],
            "type": "heatmapgl"
           }
          ],
          "histogram": [
           {
            "marker": {
             "pattern": {
              "fillmode": "overlay",
              "size": 10,
              "solidity": 0.2
             }
            },
            "type": "histogram"
           }
          ],
          "histogram2d": [
           {
            "colorbar": {
             "outlinewidth": 0,
             "ticks": ""
            },
            "colorscale": [
             [
              0,
              "#0d0887"
             ],
             [
              0.1111111111111111,
              "#46039f"
             ],
             [
              0.2222222222222222,
              "#7201a8"
             ],
             [
              0.3333333333333333,
              "#9c179e"
             ],
             [
              0.4444444444444444,
              "#bd3786"
             ],
             [
              0.5555555555555556,
              "#d8576b"
             ],
             [
              0.6666666666666666,
              "#ed7953"
             ],
             [
              0.7777777777777778,
              "#fb9f3a"
             ],
             [
              0.8888888888888888,
              "#fdca26"
             ],
             [
              1,
              "#f0f921"
             ]
            ],
            "type": "histogram2d"
           }
          ],
          "histogram2dcontour": [
           {
            "colorbar": {
             "outlinewidth": 0,
             "ticks": ""
            },
            "colorscale": [
             [
              0,
              "#0d0887"
             ],
             [
              0.1111111111111111,
              "#46039f"
             ],
             [
              0.2222222222222222,
              "#7201a8"
             ],
             [
              0.3333333333333333,
              "#9c179e"
             ],
             [
              0.4444444444444444,
              "#bd3786"
             ],
             [
              0.5555555555555556,
              "#d8576b"
             ],
             [
              0.6666666666666666,
              "#ed7953"
             ],
             [
              0.7777777777777778,
              "#fb9f3a"
             ],
             [
              0.8888888888888888,
              "#fdca26"
             ],
             [
              1,
              "#f0f921"
             ]
            ],
            "type": "histogram2dcontour"
           }
          ],
          "mesh3d": [
           {
            "colorbar": {
             "outlinewidth": 0,
             "ticks": ""
            },
            "type": "mesh3d"
           }
          ],
          "parcoords": [
           {
            "line": {
             "colorbar": {
              "outlinewidth": 0,
              "ticks": ""
             }
            },
            "type": "parcoords"
           }
          ],
          "pie": [
           {
            "automargin": true,
            "type": "pie"
           }
          ],
          "scatter": [
           {
            "marker": {
             "colorbar": {
              "outlinewidth": 0,
              "ticks": ""
             }
            },
            "type": "scatter"
           }
          ],
          "scatter3d": [
           {
            "line": {
             "colorbar": {
              "outlinewidth": 0,
              "ticks": ""
             }
            },
            "marker": {
             "colorbar": {
              "outlinewidth": 0,
              "ticks": ""
             }
            },
            "type": "scatter3d"
           }
          ],
          "scattercarpet": [
           {
            "marker": {
             "colorbar": {
              "outlinewidth": 0,
              "ticks": ""
             }
            },
            "type": "scattercarpet"
           }
          ],
          "scattergeo": [
           {
            "marker": {
             "colorbar": {
              "outlinewidth": 0,
              "ticks": ""
             }
            },
            "type": "scattergeo"
           }
          ],
          "scattergl": [
           {
            "marker": {
             "colorbar": {
              "outlinewidth": 0,
              "ticks": ""
             }
            },
            "type": "scattergl"
           }
          ],
          "scattermapbox": [
           {
            "marker": {
             "colorbar": {
              "outlinewidth": 0,
              "ticks": ""
             }
            },
            "type": "scattermapbox"
           }
          ],
          "scatterpolar": [
           {
            "marker": {
             "colorbar": {
              "outlinewidth": 0,
              "ticks": ""
             }
            },
            "type": "scatterpolar"
           }
          ],
          "scatterpolargl": [
           {
            "marker": {
             "colorbar": {
              "outlinewidth": 0,
              "ticks": ""
             }
            },
            "type": "scatterpolargl"
           }
          ],
          "scatterternary": [
           {
            "marker": {
             "colorbar": {
              "outlinewidth": 0,
              "ticks": ""
             }
            },
            "type": "scatterternary"
           }
          ],
          "surface": [
           {
            "colorbar": {
             "outlinewidth": 0,
             "ticks": ""
            },
            "colorscale": [
             [
              0,
              "#0d0887"
             ],
             [
              0.1111111111111111,
              "#46039f"
             ],
             [
              0.2222222222222222,
              "#7201a8"
             ],
             [
              0.3333333333333333,
              "#9c179e"
             ],
             [
              0.4444444444444444,
              "#bd3786"
             ],
             [
              0.5555555555555556,
              "#d8576b"
             ],
             [
              0.6666666666666666,
              "#ed7953"
             ],
             [
              0.7777777777777778,
              "#fb9f3a"
             ],
             [
              0.8888888888888888,
              "#fdca26"
             ],
             [
              1,
              "#f0f921"
             ]
            ],
            "type": "surface"
           }
          ],
          "table": [
           {
            "cells": {
             "fill": {
              "color": "#EBF0F8"
             },
             "line": {
              "color": "white"
             }
            },
            "header": {
             "fill": {
              "color": "#C8D4E3"
             },
             "line": {
              "color": "white"
             }
            },
            "type": "table"
           }
          ]
         },
         "layout": {
          "annotationdefaults": {
           "arrowcolor": "#2a3f5f",
           "arrowhead": 0,
           "arrowwidth": 1
          },
          "autotypenumbers": "strict",
          "coloraxis": {
           "colorbar": {
            "outlinewidth": 0,
            "ticks": ""
           }
          },
          "colorscale": {
           "diverging": [
            [
             0,
             "#8e0152"
            ],
            [
             0.1,
             "#c51b7d"
            ],
            [
             0.2,
             "#de77ae"
            ],
            [
             0.3,
             "#f1b6da"
            ],
            [
             0.4,
             "#fde0ef"
            ],
            [
             0.5,
             "#f7f7f7"
            ],
            [
             0.6,
             "#e6f5d0"
            ],
            [
             0.7,
             "#b8e186"
            ],
            [
             0.8,
             "#7fbc41"
            ],
            [
             0.9,
             "#4d9221"
            ],
            [
             1,
             "#276419"
            ]
           ],
           "sequential": [
            [
             0,
             "#0d0887"
            ],
            [
             0.1111111111111111,
             "#46039f"
            ],
            [
             0.2222222222222222,
             "#7201a8"
            ],
            [
             0.3333333333333333,
             "#9c179e"
            ],
            [
             0.4444444444444444,
             "#bd3786"
            ],
            [
             0.5555555555555556,
             "#d8576b"
            ],
            [
             0.6666666666666666,
             "#ed7953"
            ],
            [
             0.7777777777777778,
             "#fb9f3a"
            ],
            [
             0.8888888888888888,
             "#fdca26"
            ],
            [
             1,
             "#f0f921"
            ]
           ],
           "sequentialminus": [
            [
             0,
             "#0d0887"
            ],
            [
             0.1111111111111111,
             "#46039f"
            ],
            [
             0.2222222222222222,
             "#7201a8"
            ],
            [
             0.3333333333333333,
             "#9c179e"
            ],
            [
             0.4444444444444444,
             "#bd3786"
            ],
            [
             0.5555555555555556,
             "#d8576b"
            ],
            [
             0.6666666666666666,
             "#ed7953"
            ],
            [
             0.7777777777777778,
             "#fb9f3a"
            ],
            [
             0.8888888888888888,
             "#fdca26"
            ],
            [
             1,
             "#f0f921"
            ]
           ]
          },
          "colorway": [
           "#636efa",
           "#EF553B",
           "#00cc96",
           "#ab63fa",
           "#FFA15A",
           "#19d3f3",
           "#FF6692",
           "#B6E880",
           "#FF97FF",
           "#FECB52"
          ],
          "font": {
           "color": "#2a3f5f"
          },
          "geo": {
           "bgcolor": "white",
           "lakecolor": "white",
           "landcolor": "#E5ECF6",
           "showlakes": true,
           "showland": true,
           "subunitcolor": "white"
          },
          "hoverlabel": {
           "align": "left"
          },
          "hovermode": "closest",
          "mapbox": {
           "style": "light"
          },
          "paper_bgcolor": "white",
          "plot_bgcolor": "#E5ECF6",
          "polar": {
           "angularaxis": {
            "gridcolor": "white",
            "linecolor": "white",
            "ticks": ""
           },
           "bgcolor": "#E5ECF6",
           "radialaxis": {
            "gridcolor": "white",
            "linecolor": "white",
            "ticks": ""
           }
          },
          "scene": {
           "xaxis": {
            "backgroundcolor": "#E5ECF6",
            "gridcolor": "white",
            "gridwidth": 2,
            "linecolor": "white",
            "showbackground": true,
            "ticks": "",
            "zerolinecolor": "white"
           },
           "yaxis": {
            "backgroundcolor": "#E5ECF6",
            "gridcolor": "white",
            "gridwidth": 2,
            "linecolor": "white",
            "showbackground": true,
            "ticks": "",
            "zerolinecolor": "white"
           },
           "zaxis": {
            "backgroundcolor": "#E5ECF6",
            "gridcolor": "white",
            "gridwidth": 2,
            "linecolor": "white",
            "showbackground": true,
            "ticks": "",
            "zerolinecolor": "white"
           }
          },
          "shapedefaults": {
           "line": {
            "color": "#2a3f5f"
           }
          },
          "ternary": {
           "aaxis": {
            "gridcolor": "white",
            "linecolor": "white",
            "ticks": ""
           },
           "baxis": {
            "gridcolor": "white",
            "linecolor": "white",
            "ticks": ""
           },
           "bgcolor": "#E5ECF6",
           "caxis": {
            "gridcolor": "white",
            "linecolor": "white",
            "ticks": ""
           }
          },
          "title": {
           "x": 0.05
          },
          "xaxis": {
           "automargin": true,
           "gridcolor": "white",
           "linecolor": "white",
           "ticks": "",
           "title": {
            "standoff": 15
           },
           "zerolinecolor": "white",
           "zerolinewidth": 2
          },
          "yaxis": {
           "automargin": true,
           "gridcolor": "white",
           "linecolor": "white",
           "ticks": "",
           "title": {
            "standoff": 15
           },
           "zerolinecolor": "white",
           "zerolinewidth": 2
          }
         }
        },
        "title": {
         "text": "요일별 가장 많이 하는 행동"
        },
        "width": 1300
       }
      },
      "text/html": [
       "<div>                            <div id=\"125d326a-ba80-471c-baef-ea44047f6b1f\" class=\"plotly-graph-div\" style=\"height:1000px; width:1300px;\"></div>            <script type=\"text/javascript\">                require([\"plotly\"], function(Plotly) {                    window.PLOTLYENV=window.PLOTLYENV || {};                                    if (document.getElementById(\"125d326a-ba80-471c-baef-ea44047f6b1f\")) {                    Plotly.newPlot(                        \"125d326a-ba80-471c-baef-ea44047f6b1f\",                        [{\"branchvalues\":\"total\",\"domain\":{\"x\":[0.0,1.0],\"y\":[0.0,1.0]},\"hovertemplate\":\"labels=%{label}<br>owner_id=%{value}<br>parent=%{parent}<br>id=%{id}<extra></extra>\",\"ids\":[\"TV\\uc2dc\\uccad\",\"\\uac04\\uc2dd\",\"\\uadc0\\uac00\",\"\\uadc0\\uac00, TV\\uc2dc\\uccad\",\"\\uadc0\\uac00, \\ubc25\\uc900\\ube44\",\"\\uadc0\\uac00, \\uc74c\\uc2dd\\ub370\\uc6b0\\uae30\",\"\\uadc0\\uac00, \\uc74c\\uc2dd\\ucd9c\\ub0a9\",\"\\uadc0\\uac00, \\ud658\\uae30\",\"\\uae30\\uc0c1\",\"\\uae30\\uc0c1, TV\\uc2dc\\uccad\",\"\\ub0ae\\uc7a0\",\"\\ub0ae\\uc7a0\\uae30\\uc0c1\",\"\\ub2a6\\uc740\\uae30\\uc0c1\",\"\\ubc25\\uc1a5\\uc815\\ub9ac\",\"\\ubc25\\uc900\\ube44\",\"\\uc2dd\\uc0ac\\uc911TV\",\"\\uc2e4\\uc678\\uc6b4\\ub3d9\",\"\\uc544\\uce68\\uc2dd\\uc0ac\",\"\\uc678\\ucd9c\",\"\\uc74c\\uc2dd\\ub370\\uc6b0\\uae30\",\"\\uc74c\\uc2dd\\ucd9c\\ub0a9\",\"\\uc774\\ub978\\uae30\\uc0c1\",\"\\uc774\\ub978\\uae30\\uc0c1, TV\\uc2dc\\uccad\",\"\\uc800\\ub141\\uc2dd\\uc0ac\",\"\\uc810\\uc2ec\\uc2dd\\uc0ac\",\"\\ucde8\\uce68\",\"\\ud504\\ub85c\\uadf8\\ub7a8 \\ucc38\\uc5ec\",\"\\ud658\\uae30\",\"\\ud734\\uc2dd\"],\"labels\":[\"TV\\uc2dc\\uccad\",\"\\uac04\\uc2dd\",\"\\uadc0\\uac00\",\"\\uadc0\\uac00, TV\\uc2dc\\uccad\",\"\\uadc0\\uac00, \\ubc25\\uc900\\ube44\",\"\\uadc0\\uac00, \\uc74c\\uc2dd\\ub370\\uc6b0\\uae30\",\"\\uadc0\\uac00, \\uc74c\\uc2dd\\ucd9c\\ub0a9\",\"\\uadc0\\uac00, \\ud658\\uae30\",\"\\uae30\\uc0c1\",\"\\uae30\\uc0c1, TV\\uc2dc\\uccad\",\"\\ub0ae\\uc7a0\",\"\\ub0ae\\uc7a0\\uae30\\uc0c1\",\"\\ub2a6\\uc740\\uae30\\uc0c1\",\"\\ubc25\\uc1a5\\uc815\\ub9ac\",\"\\ubc25\\uc900\\ube44\",\"\\uc2dd\\uc0ac\\uc911TV\",\"\\uc2e4\\uc678\\uc6b4\\ub3d9\",\"\\uc544\\uce68\\uc2dd\\uc0ac\",\"\\uc678\\ucd9c\",\"\\uc74c\\uc2dd\\ub370\\uc6b0\\uae30\",\"\\uc74c\\uc2dd\\ucd9c\\ub0a9\",\"\\uc774\\ub978\\uae30\\uc0c1\",\"\\uc774\\ub978\\uae30\\uc0c1, TV\\uc2dc\\uccad\",\"\\uc800\\ub141\\uc2dd\\uc0ac\",\"\\uc810\\uc2ec\\uc2dd\\uc0ac\",\"\\ucde8\\uce68\",\"\\ud504\\ub85c\\uadf8\\ub7a8 \\ucc38\\uc5ec\",\"\\ud658\\uae30\",\"\\ud734\\uc2dd\"],\"name\":\"\",\"parents\":[\"\",\"\",\"\",\"\",\"\",\"\",\"\",\"\",\"\",\"\",\"\",\"\",\"\",\"\",\"\",\"\",\"\",\"\",\"\",\"\",\"\",\"\",\"\",\"\",\"\",\"\",\"\",\"\",\"\"],\"type\":\"treemap\",\"values\":[17,6,25,6,2,2,2,2,7,4,4,2,1,1,4,2,3,2,35,3,2,1,2,1,1,14,15,3,22]}],                        {\"font\":{\"size\":20},\"height\":1000,\"legend\":{\"tracegroupgap\":0},\"margin\":{\"t\":60},\"template\":{\"data\":{\"bar\":[{\"error_x\":{\"color\":\"#2a3f5f\"},\"error_y\":{\"color\":\"#2a3f5f\"},\"marker\":{\"line\":{\"color\":\"#E5ECF6\",\"width\":0.5},\"pattern\":{\"fillmode\":\"overlay\",\"size\":10,\"solidity\":0.2}},\"type\":\"bar\"}],\"barpolar\":[{\"marker\":{\"line\":{\"color\":\"#E5ECF6\",\"width\":0.5},\"pattern\":{\"fillmode\":\"overlay\",\"size\":10,\"solidity\":0.2}},\"type\":\"barpolar\"}],\"carpet\":[{\"aaxis\":{\"endlinecolor\":\"#2a3f5f\",\"gridcolor\":\"white\",\"linecolor\":\"white\",\"minorgridcolor\":\"white\",\"startlinecolor\":\"#2a3f5f\"},\"baxis\":{\"endlinecolor\":\"#2a3f5f\",\"gridcolor\":\"white\",\"linecolor\":\"white\",\"minorgridcolor\":\"white\",\"startlinecolor\":\"#2a3f5f\"},\"type\":\"carpet\"}],\"choropleth\":[{\"colorbar\":{\"outlinewidth\":0,\"ticks\":\"\"},\"type\":\"choropleth\"}],\"contour\":[{\"colorbar\":{\"outlinewidth\":0,\"ticks\":\"\"},\"colorscale\":[[0.0,\"#0d0887\"],[0.1111111111111111,\"#46039f\"],[0.2222222222222222,\"#7201a8\"],[0.3333333333333333,\"#9c179e\"],[0.4444444444444444,\"#bd3786\"],[0.5555555555555556,\"#d8576b\"],[0.6666666666666666,\"#ed7953\"],[0.7777777777777778,\"#fb9f3a\"],[0.8888888888888888,\"#fdca26\"],[1.0,\"#f0f921\"]],\"type\":\"contour\"}],\"contourcarpet\":[{\"colorbar\":{\"outlinewidth\":0,\"ticks\":\"\"},\"type\":\"contourcarpet\"}],\"heatmap\":[{\"colorbar\":{\"outlinewidth\":0,\"ticks\":\"\"},\"colorscale\":[[0.0,\"#0d0887\"],[0.1111111111111111,\"#46039f\"],[0.2222222222222222,\"#7201a8\"],[0.3333333333333333,\"#9c179e\"],[0.4444444444444444,\"#bd3786\"],[0.5555555555555556,\"#d8576b\"],[0.6666666666666666,\"#ed7953\"],[0.7777777777777778,\"#fb9f3a\"],[0.8888888888888888,\"#fdca26\"],[1.0,\"#f0f921\"]],\"type\":\"heatmap\"}],\"heatmapgl\":[{\"colorbar\":{\"outlinewidth\":0,\"ticks\":\"\"},\"colorscale\":[[0.0,\"#0d0887\"],[0.1111111111111111,\"#46039f\"],[0.2222222222222222,\"#7201a8\"],[0.3333333333333333,\"#9c179e\"],[0.4444444444444444,\"#bd3786\"],[0.5555555555555556,\"#d8576b\"],[0.6666666666666666,\"#ed7953\"],[0.7777777777777778,\"#fb9f3a\"],[0.8888888888888888,\"#fdca26\"],[1.0,\"#f0f921\"]],\"type\":\"heatmapgl\"}],\"histogram\":[{\"marker\":{\"pattern\":{\"fillmode\":\"overlay\",\"size\":10,\"solidity\":0.2}},\"type\":\"histogram\"}],\"histogram2d\":[{\"colorbar\":{\"outlinewidth\":0,\"ticks\":\"\"},\"colorscale\":[[0.0,\"#0d0887\"],[0.1111111111111111,\"#46039f\"],[0.2222222222222222,\"#7201a8\"],[0.3333333333333333,\"#9c179e\"],[0.4444444444444444,\"#bd3786\"],[0.5555555555555556,\"#d8576b\"],[0.6666666666666666,\"#ed7953\"],[0.7777777777777778,\"#fb9f3a\"],[0.8888888888888888,\"#fdca26\"],[1.0,\"#f0f921\"]],\"type\":\"histogram2d\"}],\"histogram2dcontour\":[{\"colorbar\":{\"outlinewidth\":0,\"ticks\":\"\"},\"colorscale\":[[0.0,\"#0d0887\"],[0.1111111111111111,\"#46039f\"],[0.2222222222222222,\"#7201a8\"],[0.3333333333333333,\"#9c179e\"],[0.4444444444444444,\"#bd3786\"],[0.5555555555555556,\"#d8576b\"],[0.6666666666666666,\"#ed7953\"],[0.7777777777777778,\"#fb9f3a\"],[0.8888888888888888,\"#fdca26\"],[1.0,\"#f0f921\"]],\"type\":\"histogram2dcontour\"}],\"mesh3d\":[{\"colorbar\":{\"outlinewidth\":0,\"ticks\":\"\"},\"type\":\"mesh3d\"}],\"parcoords\":[{\"line\":{\"colorbar\":{\"outlinewidth\":0,\"ticks\":\"\"}},\"type\":\"parcoords\"}],\"pie\":[{\"automargin\":true,\"type\":\"pie\"}],\"scatter\":[{\"marker\":{\"colorbar\":{\"outlinewidth\":0,\"ticks\":\"\"}},\"type\":\"scatter\"}],\"scatter3d\":[{\"line\":{\"colorbar\":{\"outlinewidth\":0,\"ticks\":\"\"}},\"marker\":{\"colorbar\":{\"outlinewidth\":0,\"ticks\":\"\"}},\"type\":\"scatter3d\"}],\"scattercarpet\":[{\"marker\":{\"colorbar\":{\"outlinewidth\":0,\"ticks\":\"\"}},\"type\":\"scattercarpet\"}],\"scattergeo\":[{\"marker\":{\"colorbar\":{\"outlinewidth\":0,\"ticks\":\"\"}},\"type\":\"scattergeo\"}],\"scattergl\":[{\"marker\":{\"colorbar\":{\"outlinewidth\":0,\"ticks\":\"\"}},\"type\":\"scattergl\"}],\"scattermapbox\":[{\"marker\":{\"colorbar\":{\"outlinewidth\":0,\"ticks\":\"\"}},\"type\":\"scattermapbox\"}],\"scatterpolar\":[{\"marker\":{\"colorbar\":{\"outlinewidth\":0,\"ticks\":\"\"}},\"type\":\"scatterpolar\"}],\"scatterpolargl\":[{\"marker\":{\"colorbar\":{\"outlinewidth\":0,\"ticks\":\"\"}},\"type\":\"scatterpolargl\"}],\"scatterternary\":[{\"marker\":{\"colorbar\":{\"outlinewidth\":0,\"ticks\":\"\"}},\"type\":\"scatterternary\"}],\"surface\":[{\"colorbar\":{\"outlinewidth\":0,\"ticks\":\"\"},\"colorscale\":[[0.0,\"#0d0887\"],[0.1111111111111111,\"#46039f\"],[0.2222222222222222,\"#7201a8\"],[0.3333333333333333,\"#9c179e\"],[0.4444444444444444,\"#bd3786\"],[0.5555555555555556,\"#d8576b\"],[0.6666666666666666,\"#ed7953\"],[0.7777777777777778,\"#fb9f3a\"],[0.8888888888888888,\"#fdca26\"],[1.0,\"#f0f921\"]],\"type\":\"surface\"}],\"table\":[{\"cells\":{\"fill\":{\"color\":\"#EBF0F8\"},\"line\":{\"color\":\"white\"}},\"header\":{\"fill\":{\"color\":\"#C8D4E3\"},\"line\":{\"color\":\"white\"}},\"type\":\"table\"}]},\"layout\":{\"annotationdefaults\":{\"arrowcolor\":\"#2a3f5f\",\"arrowhead\":0,\"arrowwidth\":1},\"autotypenumbers\":\"strict\",\"coloraxis\":{\"colorbar\":{\"outlinewidth\":0,\"ticks\":\"\"}},\"colorscale\":{\"diverging\":[[0,\"#8e0152\"],[0.1,\"#c51b7d\"],[0.2,\"#de77ae\"],[0.3,\"#f1b6da\"],[0.4,\"#fde0ef\"],[0.5,\"#f7f7f7\"],[0.6,\"#e6f5d0\"],[0.7,\"#b8e186\"],[0.8,\"#7fbc41\"],[0.9,\"#4d9221\"],[1,\"#276419\"]],\"sequential\":[[0.0,\"#0d0887\"],[0.1111111111111111,\"#46039f\"],[0.2222222222222222,\"#7201a8\"],[0.3333333333333333,\"#9c179e\"],[0.4444444444444444,\"#bd3786\"],[0.5555555555555556,\"#d8576b\"],[0.6666666666666666,\"#ed7953\"],[0.7777777777777778,\"#fb9f3a\"],[0.8888888888888888,\"#fdca26\"],[1.0,\"#f0f921\"]],\"sequentialminus\":[[0.0,\"#0d0887\"],[0.1111111111111111,\"#46039f\"],[0.2222222222222222,\"#7201a8\"],[0.3333333333333333,\"#9c179e\"],[0.4444444444444444,\"#bd3786\"],[0.5555555555555556,\"#d8576b\"],[0.6666666666666666,\"#ed7953\"],[0.7777777777777778,\"#fb9f3a\"],[0.8888888888888888,\"#fdca26\"],[1.0,\"#f0f921\"]]},\"colorway\":[\"#636efa\",\"#EF553B\",\"#00cc96\",\"#ab63fa\",\"#FFA15A\",\"#19d3f3\",\"#FF6692\",\"#B6E880\",\"#FF97FF\",\"#FECB52\"],\"font\":{\"color\":\"#2a3f5f\"},\"geo\":{\"bgcolor\":\"white\",\"lakecolor\":\"white\",\"landcolor\":\"#E5ECF6\",\"showlakes\":true,\"showland\":true,\"subunitcolor\":\"white\"},\"hoverlabel\":{\"align\":\"left\"},\"hovermode\":\"closest\",\"mapbox\":{\"style\":\"light\"},\"paper_bgcolor\":\"white\",\"plot_bgcolor\":\"#E5ECF6\",\"polar\":{\"angularaxis\":{\"gridcolor\":\"white\",\"linecolor\":\"white\",\"ticks\":\"\"},\"bgcolor\":\"#E5ECF6\",\"radialaxis\":{\"gridcolor\":\"white\",\"linecolor\":\"white\",\"ticks\":\"\"}},\"scene\":{\"xaxis\":{\"backgroundcolor\":\"#E5ECF6\",\"gridcolor\":\"white\",\"gridwidth\":2,\"linecolor\":\"white\",\"showbackground\":true,\"ticks\":\"\",\"zerolinecolor\":\"white\"},\"yaxis\":{\"backgroundcolor\":\"#E5ECF6\",\"gridcolor\":\"white\",\"gridwidth\":2,\"linecolor\":\"white\",\"showbackground\":true,\"ticks\":\"\",\"zerolinecolor\":\"white\"},\"zaxis\":{\"backgroundcolor\":\"#E5ECF6\",\"gridcolor\":\"white\",\"gridwidth\":2,\"linecolor\":\"white\",\"showbackground\":true,\"ticks\":\"\",\"zerolinecolor\":\"white\"}},\"shapedefaults\":{\"line\":{\"color\":\"#2a3f5f\"}},\"ternary\":{\"aaxis\":{\"gridcolor\":\"white\",\"linecolor\":\"white\",\"ticks\":\"\"},\"baxis\":{\"gridcolor\":\"white\",\"linecolor\":\"white\",\"ticks\":\"\"},\"bgcolor\":\"#E5ECF6\",\"caxis\":{\"gridcolor\":\"white\",\"linecolor\":\"white\",\"ticks\":\"\"}},\"title\":{\"x\":0.05},\"xaxis\":{\"automargin\":true,\"gridcolor\":\"white\",\"linecolor\":\"white\",\"ticks\":\"\",\"title\":{\"standoff\":15},\"zerolinecolor\":\"white\",\"zerolinewidth\":2},\"yaxis\":{\"automargin\":true,\"gridcolor\":\"white\",\"linecolor\":\"white\",\"ticks\":\"\",\"title\":{\"standoff\":15},\"zerolinecolor\":\"white\",\"zerolinewidth\":2}}},\"title\":{\"text\":\"\\uc694\\uc77c\\ubcc4 \\uac00\\uc7a5 \\ub9ce\\uc774 \\ud558\\ub294 \\ud589\\ub3d9\"},\"width\":1300},                        {\"responsive\": true}                    ).then(function(){\n",
       "                            \n",
       "var gd = document.getElementById('125d326a-ba80-471c-baef-ea44047f6b1f');\n",
       "var x = new MutationObserver(function (mutations, observer) {{\n",
       "        var display = window.getComputedStyle(gd).display;\n",
       "        if (!display || display === 'none') {{\n",
       "            console.log([gd, 'removed!']);\n",
       "            Plotly.purge(gd);\n",
       "            observer.disconnect();\n",
       "        }}\n",
       "}});\n",
       "\n",
       "// Listen for the removal of the full notebook cells\n",
       "var notebookContainer = gd.closest('#notebook-container');\n",
       "if (notebookContainer) {{\n",
       "    x.observe(notebookContainer, {childList: true});\n",
       "}}\n",
       "\n",
       "// Listen for the clearing of the current output cell\n",
       "var outputEl = gd.closest('.output');\n",
       "if (outputEl) {{\n",
       "    x.observe(outputEl, {childList: true});\n",
       "}}\n",
       "\n",
       "                        })                };                });            </script>        </div>"
      ]
     },
     "metadata": {},
     "output_type": "display_data"
    }
   ],
   "source": [
    "plot_most_behavior_treemap('Act')"
   ]
  },
  {
   "cell_type": "code",
   "execution_count": 82,
   "id": "f6efdd71",
   "metadata": {},
   "outputs": [
    {
     "data": {
      "application/vnd.plotly.v1+json": {
       "config": {
        "plotlyServerURL": "https://plot.ly"
       },
       "data": [
        {
         "branchvalues": "total",
         "domain": {
          "x": [
           0,
           1
          ],
          "y": [
           0,
           1
          ]
         },
         "hovertemplate": "labels=%{label}<br>owner_id=%{value}<br>parent=%{parent}<br>id=%{id}<extra></extra>",
         "ids": [
          "TV 보기",
          "간식 먹기",
          "간편식 준비하기",
          "귀가하기",
          "기상하기",
          "낮잠 기상하기",
          "낮잠자기",
          "노래자랑",
          "뉴스 시청",
          "늦은 기상하기",
          "도전 실버벨",
          "듣는대화",
          "마음스트레칭",
          "밥솥 열기",
          "밥솥 정리하기",
          "석식",
          "수면",
          "순이 특별대화",
          "순이극장",
          "순이대화",
          "순이체조",
          "식사 중 TV 시청",
          "실외운동하기",
          "외출하기",
          "음식 꺼내기",
          "이른 기상하기",
          "조식",
          "중식",
          "집 환기하기",
          "취미활동"
         ],
         "labels": [
          "TV 보기",
          "간식 먹기",
          "간편식 준비하기",
          "귀가하기",
          "기상하기",
          "낮잠 기상하기",
          "낮잠자기",
          "노래자랑",
          "뉴스 시청",
          "늦은 기상하기",
          "도전 실버벨",
          "듣는대화",
          "마음스트레칭",
          "밥솥 열기",
          "밥솥 정리하기",
          "석식",
          "수면",
          "순이 특별대화",
          "순이극장",
          "순이대화",
          "순이체조",
          "식사 중 TV 시청",
          "실외운동하기",
          "외출하기",
          "음식 꺼내기",
          "이른 기상하기",
          "조식",
          "중식",
          "집 환기하기",
          "취미활동"
         ],
         "name": "",
         "parents": [
          "",
          "",
          "",
          "",
          "",
          "",
          "",
          "",
          "",
          "",
          "",
          "",
          "",
          "",
          "",
          "",
          "",
          "",
          "",
          "",
          "",
          "",
          "",
          "",
          "",
          "",
          "",
          "",
          "",
          ""
         ],
         "type": "treemap",
         "values": [
          20,
          6,
          4,
          32,
          9,
          2,
          4,
          3,
          3,
          1,
          2,
          3,
          1,
          5,
          1,
          1,
          14,
          1,
          1,
          2,
          2,
          2,
          3,
          35,
          3,
          2,
          2,
          1,
          4,
          22
         ]
        }
       ],
       "layout": {
        "font": {
         "size": 20
        },
        "height": 1000,
        "legend": {
         "tracegroupgap": 0
        },
        "margin": {
         "t": 60
        },
        "template": {
         "data": {
          "bar": [
           {
            "error_x": {
             "color": "#2a3f5f"
            },
            "error_y": {
             "color": "#2a3f5f"
            },
            "marker": {
             "line": {
              "color": "#E5ECF6",
              "width": 0.5
             },
             "pattern": {
              "fillmode": "overlay",
              "size": 10,
              "solidity": 0.2
             }
            },
            "type": "bar"
           }
          ],
          "barpolar": [
           {
            "marker": {
             "line": {
              "color": "#E5ECF6",
              "width": 0.5
             },
             "pattern": {
              "fillmode": "overlay",
              "size": 10,
              "solidity": 0.2
             }
            },
            "type": "barpolar"
           }
          ],
          "carpet": [
           {
            "aaxis": {
             "endlinecolor": "#2a3f5f",
             "gridcolor": "white",
             "linecolor": "white",
             "minorgridcolor": "white",
             "startlinecolor": "#2a3f5f"
            },
            "baxis": {
             "endlinecolor": "#2a3f5f",
             "gridcolor": "white",
             "linecolor": "white",
             "minorgridcolor": "white",
             "startlinecolor": "#2a3f5f"
            },
            "type": "carpet"
           }
          ],
          "choropleth": [
           {
            "colorbar": {
             "outlinewidth": 0,
             "ticks": ""
            },
            "type": "choropleth"
           }
          ],
          "contour": [
           {
            "colorbar": {
             "outlinewidth": 0,
             "ticks": ""
            },
            "colorscale": [
             [
              0,
              "#0d0887"
             ],
             [
              0.1111111111111111,
              "#46039f"
             ],
             [
              0.2222222222222222,
              "#7201a8"
             ],
             [
              0.3333333333333333,
              "#9c179e"
             ],
             [
              0.4444444444444444,
              "#bd3786"
             ],
             [
              0.5555555555555556,
              "#d8576b"
             ],
             [
              0.6666666666666666,
              "#ed7953"
             ],
             [
              0.7777777777777778,
              "#fb9f3a"
             ],
             [
              0.8888888888888888,
              "#fdca26"
             ],
             [
              1,
              "#f0f921"
             ]
            ],
            "type": "contour"
           }
          ],
          "contourcarpet": [
           {
            "colorbar": {
             "outlinewidth": 0,
             "ticks": ""
            },
            "type": "contourcarpet"
           }
          ],
          "heatmap": [
           {
            "colorbar": {
             "outlinewidth": 0,
             "ticks": ""
            },
            "colorscale": [
             [
              0,
              "#0d0887"
             ],
             [
              0.1111111111111111,
              "#46039f"
             ],
             [
              0.2222222222222222,
              "#7201a8"
             ],
             [
              0.3333333333333333,
              "#9c179e"
             ],
             [
              0.4444444444444444,
              "#bd3786"
             ],
             [
              0.5555555555555556,
              "#d8576b"
             ],
             [
              0.6666666666666666,
              "#ed7953"
             ],
             [
              0.7777777777777778,
              "#fb9f3a"
             ],
             [
              0.8888888888888888,
              "#fdca26"
             ],
             [
              1,
              "#f0f921"
             ]
            ],
            "type": "heatmap"
           }
          ],
          "heatmapgl": [
           {
            "colorbar": {
             "outlinewidth": 0,
             "ticks": ""
            },
            "colorscale": [
             [
              0,
              "#0d0887"
             ],
             [
              0.1111111111111111,
              "#46039f"
             ],
             [
              0.2222222222222222,
              "#7201a8"
             ],
             [
              0.3333333333333333,
              "#9c179e"
             ],
             [
              0.4444444444444444,
              "#bd3786"
             ],
             [
              0.5555555555555556,
              "#d8576b"
             ],
             [
              0.6666666666666666,
              "#ed7953"
             ],
             [
              0.7777777777777778,
              "#fb9f3a"
             ],
             [
              0.8888888888888888,
              "#fdca26"
             ],
             [
              1,
              "#f0f921"
             ]
            ],
            "type": "heatmapgl"
           }
          ],
          "histogram": [
           {
            "marker": {
             "pattern": {
              "fillmode": "overlay",
              "size": 10,
              "solidity": 0.2
             }
            },
            "type": "histogram"
           }
          ],
          "histogram2d": [
           {
            "colorbar": {
             "outlinewidth": 0,
             "ticks": ""
            },
            "colorscale": [
             [
              0,
              "#0d0887"
             ],
             [
              0.1111111111111111,
              "#46039f"
             ],
             [
              0.2222222222222222,
              "#7201a8"
             ],
             [
              0.3333333333333333,
              "#9c179e"
             ],
             [
              0.4444444444444444,
              "#bd3786"
             ],
             [
              0.5555555555555556,
              "#d8576b"
             ],
             [
              0.6666666666666666,
              "#ed7953"
             ],
             [
              0.7777777777777778,
              "#fb9f3a"
             ],
             [
              0.8888888888888888,
              "#fdca26"
             ],
             [
              1,
              "#f0f921"
             ]
            ],
            "type": "histogram2d"
           }
          ],
          "histogram2dcontour": [
           {
            "colorbar": {
             "outlinewidth": 0,
             "ticks": ""
            },
            "colorscale": [
             [
              0,
              "#0d0887"
             ],
             [
              0.1111111111111111,
              "#46039f"
             ],
             [
              0.2222222222222222,
              "#7201a8"
             ],
             [
              0.3333333333333333,
              "#9c179e"
             ],
             [
              0.4444444444444444,
              "#bd3786"
             ],
             [
              0.5555555555555556,
              "#d8576b"
             ],
             [
              0.6666666666666666,
              "#ed7953"
             ],
             [
              0.7777777777777778,
              "#fb9f3a"
             ],
             [
              0.8888888888888888,
              "#fdca26"
             ],
             [
              1,
              "#f0f921"
             ]
            ],
            "type": "histogram2dcontour"
           }
          ],
          "mesh3d": [
           {
            "colorbar": {
             "outlinewidth": 0,
             "ticks": ""
            },
            "type": "mesh3d"
           }
          ],
          "parcoords": [
           {
            "line": {
             "colorbar": {
              "outlinewidth": 0,
              "ticks": ""
             }
            },
            "type": "parcoords"
           }
          ],
          "pie": [
           {
            "automargin": true,
            "type": "pie"
           }
          ],
          "scatter": [
           {
            "marker": {
             "colorbar": {
              "outlinewidth": 0,
              "ticks": ""
             }
            },
            "type": "scatter"
           }
          ],
          "scatter3d": [
           {
            "line": {
             "colorbar": {
              "outlinewidth": 0,
              "ticks": ""
             }
            },
            "marker": {
             "colorbar": {
              "outlinewidth": 0,
              "ticks": ""
             }
            },
            "type": "scatter3d"
           }
          ],
          "scattercarpet": [
           {
            "marker": {
             "colorbar": {
              "outlinewidth": 0,
              "ticks": ""
             }
            },
            "type": "scattercarpet"
           }
          ],
          "scattergeo": [
           {
            "marker": {
             "colorbar": {
              "outlinewidth": 0,
              "ticks": ""
             }
            },
            "type": "scattergeo"
           }
          ],
          "scattergl": [
           {
            "marker": {
             "colorbar": {
              "outlinewidth": 0,
              "ticks": ""
             }
            },
            "type": "scattergl"
           }
          ],
          "scattermapbox": [
           {
            "marker": {
             "colorbar": {
              "outlinewidth": 0,
              "ticks": ""
             }
            },
            "type": "scattermapbox"
           }
          ],
          "scatterpolar": [
           {
            "marker": {
             "colorbar": {
              "outlinewidth": 0,
              "ticks": ""
             }
            },
            "type": "scatterpolar"
           }
          ],
          "scatterpolargl": [
           {
            "marker": {
             "colorbar": {
              "outlinewidth": 0,
              "ticks": ""
             }
            },
            "type": "scatterpolargl"
           }
          ],
          "scatterternary": [
           {
            "marker": {
             "colorbar": {
              "outlinewidth": 0,
              "ticks": ""
             }
            },
            "type": "scatterternary"
           }
          ],
          "surface": [
           {
            "colorbar": {
             "outlinewidth": 0,
             "ticks": ""
            },
            "colorscale": [
             [
              0,
              "#0d0887"
             ],
             [
              0.1111111111111111,
              "#46039f"
             ],
             [
              0.2222222222222222,
              "#7201a8"
             ],
             [
              0.3333333333333333,
              "#9c179e"
             ],
             [
              0.4444444444444444,
              "#bd3786"
             ],
             [
              0.5555555555555556,
              "#d8576b"
             ],
             [
              0.6666666666666666,
              "#ed7953"
             ],
             [
              0.7777777777777778,
              "#fb9f3a"
             ],
             [
              0.8888888888888888,
              "#fdca26"
             ],
             [
              1,
              "#f0f921"
             ]
            ],
            "type": "surface"
           }
          ],
          "table": [
           {
            "cells": {
             "fill": {
              "color": "#EBF0F8"
             },
             "line": {
              "color": "white"
             }
            },
            "header": {
             "fill": {
              "color": "#C8D4E3"
             },
             "line": {
              "color": "white"
             }
            },
            "type": "table"
           }
          ]
         },
         "layout": {
          "annotationdefaults": {
           "arrowcolor": "#2a3f5f",
           "arrowhead": 0,
           "arrowwidth": 1
          },
          "autotypenumbers": "strict",
          "coloraxis": {
           "colorbar": {
            "outlinewidth": 0,
            "ticks": ""
           }
          },
          "colorscale": {
           "diverging": [
            [
             0,
             "#8e0152"
            ],
            [
             0.1,
             "#c51b7d"
            ],
            [
             0.2,
             "#de77ae"
            ],
            [
             0.3,
             "#f1b6da"
            ],
            [
             0.4,
             "#fde0ef"
            ],
            [
             0.5,
             "#f7f7f7"
            ],
            [
             0.6,
             "#e6f5d0"
            ],
            [
             0.7,
             "#b8e186"
            ],
            [
             0.8,
             "#7fbc41"
            ],
            [
             0.9,
             "#4d9221"
            ],
            [
             1,
             "#276419"
            ]
           ],
           "sequential": [
            [
             0,
             "#0d0887"
            ],
            [
             0.1111111111111111,
             "#46039f"
            ],
            [
             0.2222222222222222,
             "#7201a8"
            ],
            [
             0.3333333333333333,
             "#9c179e"
            ],
            [
             0.4444444444444444,
             "#bd3786"
            ],
            [
             0.5555555555555556,
             "#d8576b"
            ],
            [
             0.6666666666666666,
             "#ed7953"
            ],
            [
             0.7777777777777778,
             "#fb9f3a"
            ],
            [
             0.8888888888888888,
             "#fdca26"
            ],
            [
             1,
             "#f0f921"
            ]
           ],
           "sequentialminus": [
            [
             0,
             "#0d0887"
            ],
            [
             0.1111111111111111,
             "#46039f"
            ],
            [
             0.2222222222222222,
             "#7201a8"
            ],
            [
             0.3333333333333333,
             "#9c179e"
            ],
            [
             0.4444444444444444,
             "#bd3786"
            ],
            [
             0.5555555555555556,
             "#d8576b"
            ],
            [
             0.6666666666666666,
             "#ed7953"
            ],
            [
             0.7777777777777778,
             "#fb9f3a"
            ],
            [
             0.8888888888888888,
             "#fdca26"
            ],
            [
             1,
             "#f0f921"
            ]
           ]
          },
          "colorway": [
           "#636efa",
           "#EF553B",
           "#00cc96",
           "#ab63fa",
           "#FFA15A",
           "#19d3f3",
           "#FF6692",
           "#B6E880",
           "#FF97FF",
           "#FECB52"
          ],
          "font": {
           "color": "#2a3f5f"
          },
          "geo": {
           "bgcolor": "white",
           "lakecolor": "white",
           "landcolor": "#E5ECF6",
           "showlakes": true,
           "showland": true,
           "subunitcolor": "white"
          },
          "hoverlabel": {
           "align": "left"
          },
          "hovermode": "closest",
          "mapbox": {
           "style": "light"
          },
          "paper_bgcolor": "white",
          "plot_bgcolor": "#E5ECF6",
          "polar": {
           "angularaxis": {
            "gridcolor": "white",
            "linecolor": "white",
            "ticks": ""
           },
           "bgcolor": "#E5ECF6",
           "radialaxis": {
            "gridcolor": "white",
            "linecolor": "white",
            "ticks": ""
           }
          },
          "scene": {
           "xaxis": {
            "backgroundcolor": "#E5ECF6",
            "gridcolor": "white",
            "gridwidth": 2,
            "linecolor": "white",
            "showbackground": true,
            "ticks": "",
            "zerolinecolor": "white"
           },
           "yaxis": {
            "backgroundcolor": "#E5ECF6",
            "gridcolor": "white",
            "gridwidth": 2,
            "linecolor": "white",
            "showbackground": true,
            "ticks": "",
            "zerolinecolor": "white"
           },
           "zaxis": {
            "backgroundcolor": "#E5ECF6",
            "gridcolor": "white",
            "gridwidth": 2,
            "linecolor": "white",
            "showbackground": true,
            "ticks": "",
            "zerolinecolor": "white"
           }
          },
          "shapedefaults": {
           "line": {
            "color": "#2a3f5f"
           }
          },
          "ternary": {
           "aaxis": {
            "gridcolor": "white",
            "linecolor": "white",
            "ticks": ""
           },
           "baxis": {
            "gridcolor": "white",
            "linecolor": "white",
            "ticks": ""
           },
           "bgcolor": "#E5ECF6",
           "caxis": {
            "gridcolor": "white",
            "linecolor": "white",
            "ticks": ""
           }
          },
          "title": {
           "x": 0.05
          },
          "xaxis": {
           "automargin": true,
           "gridcolor": "white",
           "linecolor": "white",
           "ticks": "",
           "title": {
            "standoff": 15
           },
           "zerolinecolor": "white",
           "zerolinewidth": 2
          },
          "yaxis": {
           "automargin": true,
           "gridcolor": "white",
           "linecolor": "white",
           "ticks": "",
           "title": {
            "standoff": 15
           },
           "zerolinecolor": "white",
           "zerolinewidth": 2
          }
         }
        },
        "title": {
         "text": "요일별 가장 많이 하는 행동"
        },
        "width": 1300
       }
      },
      "text/html": [
       "<div>                            <div id=\"ba298cad-dc51-493a-b7bd-2c47382c7f04\" class=\"plotly-graph-div\" style=\"height:1000px; width:1300px;\"></div>            <script type=\"text/javascript\">                require([\"plotly\"], function(Plotly) {                    window.PLOTLYENV=window.PLOTLYENV || {};                                    if (document.getElementById(\"ba298cad-dc51-493a-b7bd-2c47382c7f04\")) {                    Plotly.newPlot(                        \"ba298cad-dc51-493a-b7bd-2c47382c7f04\",                        [{\"branchvalues\":\"total\",\"domain\":{\"x\":[0.0,1.0],\"y\":[0.0,1.0]},\"hovertemplate\":\"labels=%{label}<br>owner_id=%{value}<br>parent=%{parent}<br>id=%{id}<extra></extra>\",\"ids\":[\"TV \\ubcf4\\uae30\",\"\\uac04\\uc2dd \\uba39\\uae30\",\"\\uac04\\ud3b8\\uc2dd \\uc900\\ube44\\ud558\\uae30\",\"\\uadc0\\uac00\\ud558\\uae30\",\"\\uae30\\uc0c1\\ud558\\uae30\",\"\\ub0ae\\uc7a0 \\uae30\\uc0c1\\ud558\\uae30\",\"\\ub0ae\\uc7a0\\uc790\\uae30\",\"\\ub178\\ub798\\uc790\\ub791\",\"\\ub274\\uc2a4 \\uc2dc\\uccad\",\"\\ub2a6\\uc740 \\uae30\\uc0c1\\ud558\\uae30\",\"\\ub3c4\\uc804 \\uc2e4\\ubc84\\ubca8\",\"\\ub4e3\\ub294\\ub300\\ud654\",\"\\ub9c8\\uc74c\\uc2a4\\ud2b8\\ub808\\uce6d\",\"\\ubc25\\uc1a5 \\uc5f4\\uae30\",\"\\ubc25\\uc1a5 \\uc815\\ub9ac\\ud558\\uae30\",\"\\uc11d\\uc2dd\",\"\\uc218\\uba74\",\"\\uc21c\\uc774 \\ud2b9\\ubcc4\\ub300\\ud654\",\"\\uc21c\\uc774\\uadf9\\uc7a5\",\"\\uc21c\\uc774\\ub300\\ud654\",\"\\uc21c\\uc774\\uccb4\\uc870\",\"\\uc2dd\\uc0ac \\uc911 TV \\uc2dc\\uccad\",\"\\uc2e4\\uc678\\uc6b4\\ub3d9\\ud558\\uae30\",\"\\uc678\\ucd9c\\ud558\\uae30\",\"\\uc74c\\uc2dd \\uaebc\\ub0b4\\uae30\",\"\\uc774\\ub978 \\uae30\\uc0c1\\ud558\\uae30\",\"\\uc870\\uc2dd\",\"\\uc911\\uc2dd\",\"\\uc9d1 \\ud658\\uae30\\ud558\\uae30\",\"\\ucde8\\ubbf8\\ud65c\\ub3d9\"],\"labels\":[\"TV \\ubcf4\\uae30\",\"\\uac04\\uc2dd \\uba39\\uae30\",\"\\uac04\\ud3b8\\uc2dd \\uc900\\ube44\\ud558\\uae30\",\"\\uadc0\\uac00\\ud558\\uae30\",\"\\uae30\\uc0c1\\ud558\\uae30\",\"\\ub0ae\\uc7a0 \\uae30\\uc0c1\\ud558\\uae30\",\"\\ub0ae\\uc7a0\\uc790\\uae30\",\"\\ub178\\ub798\\uc790\\ub791\",\"\\ub274\\uc2a4 \\uc2dc\\uccad\",\"\\ub2a6\\uc740 \\uae30\\uc0c1\\ud558\\uae30\",\"\\ub3c4\\uc804 \\uc2e4\\ubc84\\ubca8\",\"\\ub4e3\\ub294\\ub300\\ud654\",\"\\ub9c8\\uc74c\\uc2a4\\ud2b8\\ub808\\uce6d\",\"\\ubc25\\uc1a5 \\uc5f4\\uae30\",\"\\ubc25\\uc1a5 \\uc815\\ub9ac\\ud558\\uae30\",\"\\uc11d\\uc2dd\",\"\\uc218\\uba74\",\"\\uc21c\\uc774 \\ud2b9\\ubcc4\\ub300\\ud654\",\"\\uc21c\\uc774\\uadf9\\uc7a5\",\"\\uc21c\\uc774\\ub300\\ud654\",\"\\uc21c\\uc774\\uccb4\\uc870\",\"\\uc2dd\\uc0ac \\uc911 TV \\uc2dc\\uccad\",\"\\uc2e4\\uc678\\uc6b4\\ub3d9\\ud558\\uae30\",\"\\uc678\\ucd9c\\ud558\\uae30\",\"\\uc74c\\uc2dd \\uaebc\\ub0b4\\uae30\",\"\\uc774\\ub978 \\uae30\\uc0c1\\ud558\\uae30\",\"\\uc870\\uc2dd\",\"\\uc911\\uc2dd\",\"\\uc9d1 \\ud658\\uae30\\ud558\\uae30\",\"\\ucde8\\ubbf8\\ud65c\\ub3d9\"],\"name\":\"\",\"parents\":[\"\",\"\",\"\",\"\",\"\",\"\",\"\",\"\",\"\",\"\",\"\",\"\",\"\",\"\",\"\",\"\",\"\",\"\",\"\",\"\",\"\",\"\",\"\",\"\",\"\",\"\",\"\",\"\",\"\",\"\"],\"type\":\"treemap\",\"values\":[20,6,4,32,9,2,4,3,3,1,2,3,1,5,1,1,14,1,1,2,2,2,3,35,3,2,2,1,4,22]}],                        {\"font\":{\"size\":20},\"height\":1000,\"legend\":{\"tracegroupgap\":0},\"margin\":{\"t\":60},\"template\":{\"data\":{\"bar\":[{\"error_x\":{\"color\":\"#2a3f5f\"},\"error_y\":{\"color\":\"#2a3f5f\"},\"marker\":{\"line\":{\"color\":\"#E5ECF6\",\"width\":0.5},\"pattern\":{\"fillmode\":\"overlay\",\"size\":10,\"solidity\":0.2}},\"type\":\"bar\"}],\"barpolar\":[{\"marker\":{\"line\":{\"color\":\"#E5ECF6\",\"width\":0.5},\"pattern\":{\"fillmode\":\"overlay\",\"size\":10,\"solidity\":0.2}},\"type\":\"barpolar\"}],\"carpet\":[{\"aaxis\":{\"endlinecolor\":\"#2a3f5f\",\"gridcolor\":\"white\",\"linecolor\":\"white\",\"minorgridcolor\":\"white\",\"startlinecolor\":\"#2a3f5f\"},\"baxis\":{\"endlinecolor\":\"#2a3f5f\",\"gridcolor\":\"white\",\"linecolor\":\"white\",\"minorgridcolor\":\"white\",\"startlinecolor\":\"#2a3f5f\"},\"type\":\"carpet\"}],\"choropleth\":[{\"colorbar\":{\"outlinewidth\":0,\"ticks\":\"\"},\"type\":\"choropleth\"}],\"contour\":[{\"colorbar\":{\"outlinewidth\":0,\"ticks\":\"\"},\"colorscale\":[[0.0,\"#0d0887\"],[0.1111111111111111,\"#46039f\"],[0.2222222222222222,\"#7201a8\"],[0.3333333333333333,\"#9c179e\"],[0.4444444444444444,\"#bd3786\"],[0.5555555555555556,\"#d8576b\"],[0.6666666666666666,\"#ed7953\"],[0.7777777777777778,\"#fb9f3a\"],[0.8888888888888888,\"#fdca26\"],[1.0,\"#f0f921\"]],\"type\":\"contour\"}],\"contourcarpet\":[{\"colorbar\":{\"outlinewidth\":0,\"ticks\":\"\"},\"type\":\"contourcarpet\"}],\"heatmap\":[{\"colorbar\":{\"outlinewidth\":0,\"ticks\":\"\"},\"colorscale\":[[0.0,\"#0d0887\"],[0.1111111111111111,\"#46039f\"],[0.2222222222222222,\"#7201a8\"],[0.3333333333333333,\"#9c179e\"],[0.4444444444444444,\"#bd3786\"],[0.5555555555555556,\"#d8576b\"],[0.6666666666666666,\"#ed7953\"],[0.7777777777777778,\"#fb9f3a\"],[0.8888888888888888,\"#fdca26\"],[1.0,\"#f0f921\"]],\"type\":\"heatmap\"}],\"heatmapgl\":[{\"colorbar\":{\"outlinewidth\":0,\"ticks\":\"\"},\"colorscale\":[[0.0,\"#0d0887\"],[0.1111111111111111,\"#46039f\"],[0.2222222222222222,\"#7201a8\"],[0.3333333333333333,\"#9c179e\"],[0.4444444444444444,\"#bd3786\"],[0.5555555555555556,\"#d8576b\"],[0.6666666666666666,\"#ed7953\"],[0.7777777777777778,\"#fb9f3a\"],[0.8888888888888888,\"#fdca26\"],[1.0,\"#f0f921\"]],\"type\":\"heatmapgl\"}],\"histogram\":[{\"marker\":{\"pattern\":{\"fillmode\":\"overlay\",\"size\":10,\"solidity\":0.2}},\"type\":\"histogram\"}],\"histogram2d\":[{\"colorbar\":{\"outlinewidth\":0,\"ticks\":\"\"},\"colorscale\":[[0.0,\"#0d0887\"],[0.1111111111111111,\"#46039f\"],[0.2222222222222222,\"#7201a8\"],[0.3333333333333333,\"#9c179e\"],[0.4444444444444444,\"#bd3786\"],[0.5555555555555556,\"#d8576b\"],[0.6666666666666666,\"#ed7953\"],[0.7777777777777778,\"#fb9f3a\"],[0.8888888888888888,\"#fdca26\"],[1.0,\"#f0f921\"]],\"type\":\"histogram2d\"}],\"histogram2dcontour\":[{\"colorbar\":{\"outlinewidth\":0,\"ticks\":\"\"},\"colorscale\":[[0.0,\"#0d0887\"],[0.1111111111111111,\"#46039f\"],[0.2222222222222222,\"#7201a8\"],[0.3333333333333333,\"#9c179e\"],[0.4444444444444444,\"#bd3786\"],[0.5555555555555556,\"#d8576b\"],[0.6666666666666666,\"#ed7953\"],[0.7777777777777778,\"#fb9f3a\"],[0.8888888888888888,\"#fdca26\"],[1.0,\"#f0f921\"]],\"type\":\"histogram2dcontour\"}],\"mesh3d\":[{\"colorbar\":{\"outlinewidth\":0,\"ticks\":\"\"},\"type\":\"mesh3d\"}],\"parcoords\":[{\"line\":{\"colorbar\":{\"outlinewidth\":0,\"ticks\":\"\"}},\"type\":\"parcoords\"}],\"pie\":[{\"automargin\":true,\"type\":\"pie\"}],\"scatter\":[{\"marker\":{\"colorbar\":{\"outlinewidth\":0,\"ticks\":\"\"}},\"type\":\"scatter\"}],\"scatter3d\":[{\"line\":{\"colorbar\":{\"outlinewidth\":0,\"ticks\":\"\"}},\"marker\":{\"colorbar\":{\"outlinewidth\":0,\"ticks\":\"\"}},\"type\":\"scatter3d\"}],\"scattercarpet\":[{\"marker\":{\"colorbar\":{\"outlinewidth\":0,\"ticks\":\"\"}},\"type\":\"scattercarpet\"}],\"scattergeo\":[{\"marker\":{\"colorbar\":{\"outlinewidth\":0,\"ticks\":\"\"}},\"type\":\"scattergeo\"}],\"scattergl\":[{\"marker\":{\"colorbar\":{\"outlinewidth\":0,\"ticks\":\"\"}},\"type\":\"scattergl\"}],\"scattermapbox\":[{\"marker\":{\"colorbar\":{\"outlinewidth\":0,\"ticks\":\"\"}},\"type\":\"scattermapbox\"}],\"scatterpolar\":[{\"marker\":{\"colorbar\":{\"outlinewidth\":0,\"ticks\":\"\"}},\"type\":\"scatterpolar\"}],\"scatterpolargl\":[{\"marker\":{\"colorbar\":{\"outlinewidth\":0,\"ticks\":\"\"}},\"type\":\"scatterpolargl\"}],\"scatterternary\":[{\"marker\":{\"colorbar\":{\"outlinewidth\":0,\"ticks\":\"\"}},\"type\":\"scatterternary\"}],\"surface\":[{\"colorbar\":{\"outlinewidth\":0,\"ticks\":\"\"},\"colorscale\":[[0.0,\"#0d0887\"],[0.1111111111111111,\"#46039f\"],[0.2222222222222222,\"#7201a8\"],[0.3333333333333333,\"#9c179e\"],[0.4444444444444444,\"#bd3786\"],[0.5555555555555556,\"#d8576b\"],[0.6666666666666666,\"#ed7953\"],[0.7777777777777778,\"#fb9f3a\"],[0.8888888888888888,\"#fdca26\"],[1.0,\"#f0f921\"]],\"type\":\"surface\"}],\"table\":[{\"cells\":{\"fill\":{\"color\":\"#EBF0F8\"},\"line\":{\"color\":\"white\"}},\"header\":{\"fill\":{\"color\":\"#C8D4E3\"},\"line\":{\"color\":\"white\"}},\"type\":\"table\"}]},\"layout\":{\"annotationdefaults\":{\"arrowcolor\":\"#2a3f5f\",\"arrowhead\":0,\"arrowwidth\":1},\"autotypenumbers\":\"strict\",\"coloraxis\":{\"colorbar\":{\"outlinewidth\":0,\"ticks\":\"\"}},\"colorscale\":{\"diverging\":[[0,\"#8e0152\"],[0.1,\"#c51b7d\"],[0.2,\"#de77ae\"],[0.3,\"#f1b6da\"],[0.4,\"#fde0ef\"],[0.5,\"#f7f7f7\"],[0.6,\"#e6f5d0\"],[0.7,\"#b8e186\"],[0.8,\"#7fbc41\"],[0.9,\"#4d9221\"],[1,\"#276419\"]],\"sequential\":[[0.0,\"#0d0887\"],[0.1111111111111111,\"#46039f\"],[0.2222222222222222,\"#7201a8\"],[0.3333333333333333,\"#9c179e\"],[0.4444444444444444,\"#bd3786\"],[0.5555555555555556,\"#d8576b\"],[0.6666666666666666,\"#ed7953\"],[0.7777777777777778,\"#fb9f3a\"],[0.8888888888888888,\"#fdca26\"],[1.0,\"#f0f921\"]],\"sequentialminus\":[[0.0,\"#0d0887\"],[0.1111111111111111,\"#46039f\"],[0.2222222222222222,\"#7201a8\"],[0.3333333333333333,\"#9c179e\"],[0.4444444444444444,\"#bd3786\"],[0.5555555555555556,\"#d8576b\"],[0.6666666666666666,\"#ed7953\"],[0.7777777777777778,\"#fb9f3a\"],[0.8888888888888888,\"#fdca26\"],[1.0,\"#f0f921\"]]},\"colorway\":[\"#636efa\",\"#EF553B\",\"#00cc96\",\"#ab63fa\",\"#FFA15A\",\"#19d3f3\",\"#FF6692\",\"#B6E880\",\"#FF97FF\",\"#FECB52\"],\"font\":{\"color\":\"#2a3f5f\"},\"geo\":{\"bgcolor\":\"white\",\"lakecolor\":\"white\",\"landcolor\":\"#E5ECF6\",\"showlakes\":true,\"showland\":true,\"subunitcolor\":\"white\"},\"hoverlabel\":{\"align\":\"left\"},\"hovermode\":\"closest\",\"mapbox\":{\"style\":\"light\"},\"paper_bgcolor\":\"white\",\"plot_bgcolor\":\"#E5ECF6\",\"polar\":{\"angularaxis\":{\"gridcolor\":\"white\",\"linecolor\":\"white\",\"ticks\":\"\"},\"bgcolor\":\"#E5ECF6\",\"radialaxis\":{\"gridcolor\":\"white\",\"linecolor\":\"white\",\"ticks\":\"\"}},\"scene\":{\"xaxis\":{\"backgroundcolor\":\"#E5ECF6\",\"gridcolor\":\"white\",\"gridwidth\":2,\"linecolor\":\"white\",\"showbackground\":true,\"ticks\":\"\",\"zerolinecolor\":\"white\"},\"yaxis\":{\"backgroundcolor\":\"#E5ECF6\",\"gridcolor\":\"white\",\"gridwidth\":2,\"linecolor\":\"white\",\"showbackground\":true,\"ticks\":\"\",\"zerolinecolor\":\"white\"},\"zaxis\":{\"backgroundcolor\":\"#E5ECF6\",\"gridcolor\":\"white\",\"gridwidth\":2,\"linecolor\":\"white\",\"showbackground\":true,\"ticks\":\"\",\"zerolinecolor\":\"white\"}},\"shapedefaults\":{\"line\":{\"color\":\"#2a3f5f\"}},\"ternary\":{\"aaxis\":{\"gridcolor\":\"white\",\"linecolor\":\"white\",\"ticks\":\"\"},\"baxis\":{\"gridcolor\":\"white\",\"linecolor\":\"white\",\"ticks\":\"\"},\"bgcolor\":\"#E5ECF6\",\"caxis\":{\"gridcolor\":\"white\",\"linecolor\":\"white\",\"ticks\":\"\"}},\"title\":{\"x\":0.05},\"xaxis\":{\"automargin\":true,\"gridcolor\":\"white\",\"linecolor\":\"white\",\"ticks\":\"\",\"title\":{\"standoff\":15},\"zerolinecolor\":\"white\",\"zerolinewidth\":2},\"yaxis\":{\"automargin\":true,\"gridcolor\":\"white\",\"linecolor\":\"white\",\"ticks\":\"\",\"title\":{\"standoff\":15},\"zerolinecolor\":\"white\",\"zerolinewidth\":2}}},\"title\":{\"text\":\"\\uc694\\uc77c\\ubcc4 \\uac00\\uc7a5 \\ub9ce\\uc774 \\ud558\\ub294 \\ud589\\ub3d9\"},\"width\":1300},                        {\"responsive\": true}                    ).then(function(){\n",
       "                            \n",
       "var gd = document.getElementById('ba298cad-dc51-493a-b7bd-2c47382c7f04');\n",
       "var x = new MutationObserver(function (mutations, observer) {{\n",
       "        var display = window.getComputedStyle(gd).display;\n",
       "        if (!display || display === 'none') {{\n",
       "            console.log([gd, 'removed!']);\n",
       "            Plotly.purge(gd);\n",
       "            observer.disconnect();\n",
       "        }}\n",
       "}});\n",
       "\n",
       "// Listen for the removal of the full notebook cells\n",
       "var notebookContainer = gd.closest('#notebook-container');\n",
       "if (notebookContainer) {{\n",
       "    x.observe(notebookContainer, {childList: true});\n",
       "}}\n",
       "\n",
       "// Listen for the clearing of the current output cell\n",
       "var outputEl = gd.closest('.output');\n",
       "if (outputEl) {{\n",
       "    x.observe(outputEl, {childList: true});\n",
       "}}\n",
       "\n",
       "                        })                };                });            </script>        </div>"
      ]
     },
     "metadata": {},
     "output_type": "display_data"
    }
   ],
   "source": [
    "plot_most_behavior_treemap('State')"
   ]
  },
  {
   "cell_type": "markdown",
   "id": "0ec3f054",
   "metadata": {},
   "source": [
    "# 요일별로 가장 많이하는 행동 시각화"
   ]
  },
  {
   "cell_type": "code",
   "execution_count": 83,
   "id": "b9e875e2",
   "metadata": {},
   "outputs": [],
   "source": [
    "# !pip install -U kaleido"
   ]
  },
  {
   "cell_type": "code",
   "execution_count": 14,
   "id": "5ca3a774",
   "metadata": {},
   "outputs": [],
   "source": [
    "def plot_Weekday_most_behavior_treemap(col):\n",
    "    count  = data.pivot_table(index=['Weekday',col],values = 'owner_id',aggfunc='count').reset_index()\n",
    "    count.rename(columns={'owner_id':'count'},inplace=True)\n",
    "    fig = px.treemap(count, path = ['Weekday',col],values = 'count')\n",
    "    fig.update_layout(\n",
    "        title = \"요일별 가장 많이 하는 행동\",\n",
    "#         xaxis_title = \"시간대\",\n",
    "#         yaxis_title = '빈도수',\n",
    "        width=1300,\n",
    "        height=1000,\n",
    "        font=dict(size = 20)\n",
    "    )\n",
    "    if(col == 'Act'):\n",
    "        fig.write_image(user_img_dir_path + '/' + ID + '_' + col +'_요일별_가장_많이_하는_행동.png')\n",
    "#     fig.show()\n"
   ]
  },
  {
   "cell_type": "markdown",
   "id": "48084e71",
   "metadata": {},
   "source": [
    "## Z컬럼"
   ]
  },
  {
   "cell_type": "code",
   "execution_count": 15,
   "id": "7cc83e6c",
   "metadata": {},
   "outputs": [],
   "source": [
    "# plot_Weekday_most_behavior_treemap('Z')"
   ]
  },
  {
   "cell_type": "markdown",
   "id": "b0640879",
   "metadata": {},
   "source": [
    "## Act 컬럼"
   ]
  },
  {
   "cell_type": "code",
   "execution_count": 16,
   "id": "1a80cc7c",
   "metadata": {},
   "outputs": [],
   "source": [
    "plot_Weekday_most_behavior_treemap('Act')"
   ]
  },
  {
   "cell_type": "markdown",
   "id": "77bd5bb9",
   "metadata": {},
   "source": [
    "## State컬럼"
   ]
  },
  {
   "cell_type": "code",
   "execution_count": 17,
   "id": "2f23e36a",
   "metadata": {},
   "outputs": [],
   "source": [
    "# plot_Weekday_most_behavior_treemap('State')"
   ]
  },
  {
   "cell_type": "markdown",
   "id": "ddab984e",
   "metadata": {},
   "source": [
    "# 메세지 생성 부분"
   ]
  },
  {
   "cell_type": "code",
   "execution_count": 18,
   "id": "107c1965",
   "metadata": {},
   "outputs": [],
   "source": [
    "def generate_message(mean,var, std, life_type):\n",
    "    message = \"\"\n",
    "#     good_or_not: 2->good, 1-> soso, 0->bad, -1->no image to show\n",
    "    good_or_not = -1\n",
    "    \n",
    "    if(life_type == '수면'):\n",
    "        if var <= 1:\n",
    "            message = [life_type + '패턴이 일정하시네요! 잘하고 계십니다. 수면 패턴을 유지할 경우 각종 질병을 예방할 수 있습니다!', ' 게다가 피부 노화도 예방되고, 더 상쾌한 아침을 맞이할 수 있다고 합니다. 앞으로도 계속 이를 유지하셔서 더 건강한 생활하시기를 순이가 응원합니다!']\n",
    "            good_or_not = 2\n",
    "        elif (var > 1) & (var <= 2):\n",
    "            message = [life_type + '패턴이 규칙적이시네요. 수면 시간이 적정 수면시간(6-8시간)보다 많거나 적지는 않은지 살펴보세요!']\n",
    "            good_or_not = 1\n",
    "        else:\n",
    "            message = [life_type + '패턴이 불규칙적입니다, 불규칙적인 수면은 장내염증을 일으킬 수 있고 비만, 고지혈증, 고혈압, 당뇨와 같은', ' 대사질환이 발생할 가능성이 약 27퍼센트 오른다고 해요, 순이가 혹시 도와드릴게 없을까요?']\n",
    "            good_or_not = 0\n",
    "            \n",
    "    elif(life_type == '기상하기'):\n",
    "        if var <= 1: #긍정\n",
    "            message = ['기상 패턴이 일정하시네요! 규칙적인 기상 시간은 수면의 질을 높이는 좋은 방법입니다.']\n",
    "            good_or_not = 2\n",
    "        elif (var > 1) & (var <= 2): #긍정\n",
    "            message = ['기상 패턴이 규칙적이시네요. 이대로 유지하신다면, 편히 수면을 할 수 있을거에요!']\n",
    "            good_or_not = 1\n",
    "        else: #부정\n",
    "            message = ['기상 패턴이 불규칙적입니다. 불규칙적인 기상 시간은 수면의 질을 저하시킬 수 있으니 주의해주세요!']\n",
    "            good_or_not = 0\n",
    "            \n",
    "    elif(life_type == '취미활동'):\n",
    "        if var <= 1: #긍정\n",
    "            message = ['취미 활동 패턴이 일정하시네요! 적절한 취미활동은 정신 건강에 도움이 된다고 하네요.']\n",
    "            good_or_not = 2\n",
    "        elif (var > 1) & (var <= 2): #긍정\n",
    "            message = ['취미 활동을 규칙적으로 하시네요. 취미활동을 즐기시는 모습이 언제나 멋있어 보인답니다.']\n",
    "            good_or_not = 2\n",
    "        else: #긍정\n",
    "            message = ['취미활동을 언제나 즐기는 편이시군요! 순이와 함께 취미활동을 해봐요.']\n",
    "            good_or_not = 2\n",
    "            \n",
    "    elif(life_type == '집 환기하기'):\n",
    "        if var <= 1: #긍정\n",
    "            message = ['특정 시간에 환기를 자주 하시는 편이시군요! 환기는 실내의 오염물질을 줄이는 최고의 방법이죠.']\n",
    "            good_or_not = 2\n",
    "        elif (var > 1) & (var <= 2): #긍정\n",
    "            message = ['환기 시간이 규칙적이시군요. 쾌적한 실내 공기를 유지하는 것은 호흡기 질환을 예방할 수 있답니다.']\n",
    "            good_or_not = 1\n",
    "        else: #긍정\n",
    "            message = ['언제나 환기를 하시는 모습이 보기 좋습니다. 순이가 항상 응원할께요!']\n",
    "            good_or_not = 1\n",
    "            \n",
    "            \n",
    "    elif(life_type == '낮잠자기'):\n",
    "        if var <= 1: #긍정\n",
    "            message = ['낮잠을 규칙적으로 주무시는군요. 낮잠이 두뇌 건강에도 도움이 된다는 걸 알고 계셨나요?']\n",
    "            good_or_not = 2\n",
    "        elif (var > 1) & (var <= 2): #긍정\n",
    "            message = ['낮잠을 너무 많이 주무시는 것은 아닌지 한번 체크해보세요! 적당한 낮잠은 기억력 향상에 도움이 많이 됩니다.']\n",
    "            good_or_not = 1\n",
    "        else: #부정\n",
    "            message = ['너무 많은 낮잠은 건강에 악영향이 있을 수 있습니다. 수면이 적정 시간을 넘기지 않도록 유의해주세요!']\n",
    "            good_or_not = 0\n",
    "            \n",
    "    elif(life_type == '외출하기'):\n",
    "        if var <= 1: #긍정\n",
    "            message = ['규칙적으로 외출을 하시네요. 참! 외출 시에는 오늘 날씨가 춥거나 덥지는 않은지 체크해보세요!']\n",
    "            good_or_not = 2\n",
    "        elif (var > 1) & (var <= 2): #긍정\n",
    "            message = ['외출을 자주하기만 해도, 각종 질환을 예방할 수 있다고 하네요. ']\n",
    "            good_or_not = 2\n",
    "        else: #긍정\n",
    "            message = ['외출 시에는 가스나 불을 켜고 나가지는 않는지, 꼼꼼히 확인해보세요!']\n",
    "            good_or_not = 2\n",
    "            \n",
    "    elif(life_type == 'TV 보기'):\n",
    "        if var <= 1: #긍정\n",
    "            message = ['항상 똑같은 시간에 TV를 보시는군요! 즐겨 보시는 드라마가 있다면 순이에게도 알려주세요!']\n",
    "            good_or_not = 2\n",
    "        elif (var > 1) & (var <= 2): #긍정\n",
    "            message = ['TV를 보는 시간이 규칙적이시네요. 가끔씩 스트레칭을 해보는 것은 어떨까요?']\n",
    "            good_or_not = 1\n",
    "        else: #부정\n",
    "            message = ['과도한 TV 시청은 신체에 악영향을 줄 수 있습니다. 너무 많이 시청하지 않도록, 주의해주세요!']\n",
    "            good_or_not = 0\n",
    "    else: \n",
    "        message = []\n",
    "        good_or_not = -1\n",
    "    \n",
    "    return message, good_or_not"
   ]
  },
  {
   "cell_type": "code",
   "execution_count": 19,
   "id": "a7e3e69f",
   "metadata": {},
   "outputs": [],
   "source": [
    "def encoding_minute(minute):\n",
    "    return int(minute)/60\n",
    "\n",
    "def decoding_minute(minute):\n",
    "    return minute*60\n",
    "\n",
    "#평균. 분산, 표준편차\n",
    "\n",
    "def life_pattern_comment(mean, var, std, life_type):\n",
    "    minute = decoding_minute(mean%1)\n",
    "    #평균 기상시간은: 22시 \n",
    "    if (mean<24):\n",
    "        print('평균 \\\"'+life_type+'\\\" 시간은: {:.0f}시'.format(mean),'{:.0f}분 입니다'.format(minute))\n",
    "        plot_title = '평균'+life_type+'시간은: {:.0f}시'.format(mean) + '{:.0f}분 입니다'.format(minute)\n",
    "    else:\n",
    "        print('평균 \\\"'+life_type+'\\\" 시간은: {:.0f}시'.format(mean-24),'{:.0f}분 입니다'.format(minute))\n",
    "        plot_title = '평균 \\\"'+life_type+'\\\" 시간은: {:.0f}시'.format(mean-24) + '{:.0f}분 입니다'.format(minute)\n",
    "    message, good_or_not = generate_message(mean,var, std, life_type)\n",
    "    print(message, good_or_not)\n",
    "    return plot_title, message, good_or_not"
   ]
  },
  {
   "cell_type": "markdown",
   "id": "2745492a",
   "metadata": {},
   "source": [
    "## abstraction 시키기 (함수화)"
   ]
  },
  {
   "cell_type": "code",
   "execution_count": 20,
   "id": "d133b0ce",
   "metadata": {},
   "outputs": [],
   "source": [
    "from matplotlib import rcParams\n",
    "\n",
    "message_dictionary = {'temp_key':'temp_value'}\n",
    "def check_pattern(state):\n",
    "    data_equals_state = data[data['State'] == state].reset_index(drop=True).sort_values(by=['month','day','hour','minute','second'])\n",
    "    state_time = data_equals_state.drop_duplicates(['month','day'],keep = 'last')\n",
    "    #해당 데이터가 너무 적은 경우 분석을 진항하지 않음\n",
    "    if(len(state_time) < 7):\n",
    "        print(\"\\\"\"+ state + \"\\\" 의 기록이 너무 적어 분석하기 어려울 것 같아요\")\n",
    "#         image = Image.open(\"./not_enough_log_data.jfif\")\n",
    "#         image.show()\n",
    "        return\n",
    "    if(state == '수면'):\n",
    "        state_time['preprocessed_hour'] = state_time['hour'].apply(lambda x: x+24 if x<12 else x)\n",
    "    else:\n",
    "        state_time['preprocessed_hour'] = state_time['hour']\n",
    "    state_time['preprocessed_minute'] = state_time['minute'].apply(encoding_minute)\n",
    "    state_time['preprocessed_hour'] = state_time['preprocessed_hour'] + state_time['preprocessed_minute']\n",
    "    state_time[np.abs(state_time['preprocessed_hour'] - state_time['preprocessed_hour'].mean()) <= 3*state_time['preprocessed_hour'].std()]\n",
    "    \n",
    "    state_mean = state_time['preprocessed_hour'].mean()\n",
    "    state_var = state_time['preprocessed_hour'].var()\n",
    "    state_std = state_time['preprocessed_hour'].std()\n",
    "    plot_title, message, good_or_not = life_pattern_comment(state_mean,state_var,state_std,state)\n",
    "    plt.rcParams['font.family'] = 'NanumGothic'\n",
    "    img = sns.displot(state_time['preprocessed_hour'], kde = False)\n",
    "    img.set(xlabel = \"\\\"\" + state + \"\\\"\" +\"시간\", ylabel = \"빈도수\",title=plot_title )\n",
    "    sns.set(font_scale=2)\n",
    "    plt.gcf().set_size_inches(15, 12)\n",
    "    \n",
    "    global message_dictionary\n",
    "    \n",
    "    \n",
    "    if(good_or_not == 2):\n",
    "        plt.savefig(user_img_dir_path + '/' + ID + '_' + state +'시간 분포도_good.png')\n",
    "        message_dictionary[user_img_dir_path + '/' + ID + '_' + state +'시간 분포도_good.png'] = message\n",
    "    elif(good_or_not == 1):\n",
    "        plt.savefig(user_img_dir_path + '/' + ID + '_' + state +'시간 분포도_soso.png')\n",
    "        message_dictionary[user_img_dir_path + '/' + ID + '_' + state +'시간 분포도_soso.png'] = message\n",
    "    elif(good_or_not == 0):\n",
    "        plt.savefig(user_img_dir_path + '/' + ID + '_' + state +'시간 분포도_badd.png')\n",
    "        message_dictionary[user_img_dir_path + '/' + ID + '_' + state +'시간 분포도_badd.png'] = message\n",
    "    else:\n",
    "        plt.savefig(user_img_dir_path + '/' + ID + '_' + state +'시간 분포도_noth.png')\n",
    "\n",
    "    \n",
    "#     #plotly 시각화\n",
    "#     fig = px.histogram(state_time, x=\"preprocessed_hour\")\n",
    "#     fig.show()"
   ]
  },
  {
   "cell_type": "markdown",
   "id": "aa80a11c",
   "metadata": {},
   "source": [
    "# 7개 이상의 로그가 없는 행동들은 drop시키고 이상인 데이터들만 분석"
   ]
  },
  {
   "cell_type": "code",
   "execution_count": 21,
   "id": "e0fd524a",
   "metadata": {},
   "outputs": [
    {
     "name": "stdout",
     "output_type": "stream",
     "text": [
      "평균 \"취미활동\" 시간은: 12시 20분 입니다\n",
      "['취미활동을 언제나 즐기는 편이시군요! 순이와 함께 취미활동을 해봐요.'] 2\n",
      "평균 \"수면\" 시간은: 23시 59분 입니다\n",
      "['수면패턴이 규칙적이시네요. 수면 시간이 적정 수면시간(6-8시간)보다 많거나 적지는 않은지 살펴보세요!'] 1\n",
      "평균 \"기상하기\" 시간은: 7시 40분 입니다\n",
      "['기상 패턴이 불규칙적입니다. 불규칙적인 기상 시간은 수면의 질을 저하시킬 수 있으니 주의해주세요!'] 0\n",
      "평균 \"외출하기\" 시간은: 11시 55분 입니다\n",
      "['외출 시에는 가스나 불을 켜고 나가지는 않는지, 꼼꼼히 확인해보세요!'] 2\n",
      "평균 \"귀가하기\" 시간은: 15시 27분 입니다\n",
      "[] -1\n"
     ]
    },
    {
     "data": {
      "image/png": "[encoded data removed]",
      "text/plain": [
       "<Figure size 1080x864 with 1 Axes>"
      ]
     },
     "metadata": {},
     "output_type": "display_data"
    },
    {
     "data": {
      "image/png": "[encoded data removed]",
      "text/plain": [
       "<Figure size 1080x864 with 1 Axes>"
      ]
     },
     "metadata": {},
     "output_type": "display_data"
    },
    {
     "data": {
      "image/png": "[encoded data removed]",
      "text/plain": [
       "<Figure size 1080x864 with 1 Axes>"
      ]
     },
     "metadata": {},
     "output_type": "display_data"
    },
    {
     "data": {
      "image/png": "[encoded data removed]",
      "text/plain": [
       "<Figure size 1080x864 with 1 Axes>"
      ]
     },
     "metadata": {},
     "output_type": "display_data"
    },
    {
     "data": {
      "image/png": "[encoded data removed]",
      "text/plain": [
       "<Figure size 1080x864 with 1 Axes>"
      ]
     },
     "metadata": {},
     "output_type": "display_data"
    }
   ],
   "source": [
    "def get_more_than_7logs(col_type):\n",
    "    more_than_7_logs = pd.DataFrame(data[col_type].value_counts())\n",
    "    more_than_7_logs = more_than_7_logs[more_than_7_logs[col_type] >=7]\n",
    "    State_unique_list = more_than_7_logs.index\n",
    "    return list(State_unique_list)\n",
    "State_unique_list = get_more_than_7logs('State')\n",
    "for i in State_unique_list:\n",
    "    check_pattern(i)"
   ]
  },
  {
   "cell_type": "code",
   "execution_count": null,
   "id": "2a596bfc",
   "metadata": {},
   "outputs": [],
   "source": []
  },
  {
   "cell_type": "code",
   "execution_count": 27,
   "id": "f1a97146",
   "metadata": {},
   "outputs": [
    {
     "ename": "KeyError",
     "evalue": "'./img/228/228_대화워드클라우드.png'",
     "output_type": "error",
     "traceback": [
      "\u001b[1;31m---------------------------------------------------------------------------\u001b[0m",
      "\u001b[1;31mKeyError\u001b[0m                                  Traceback (most recent call last)",
      "\u001b[1;32m<ipython-input-27-850fff101658>\u001b[0m in \u001b[0;36m<module>\u001b[1;34m\u001b[0m\n\u001b[0;32m    151\u001b[0m     \u001b[0mpdf\u001b[0m\u001b[1;33m.\u001b[0m\u001b[0moutput\u001b[0m\u001b[1;33m(\u001b[0m\u001b[1;34m'./pdf/'\u001b[0m \u001b[1;33m+\u001b[0m \u001b[0mID\u001b[0m \u001b[1;33m+\u001b[0m \u001b[1;34m'_practice.pdf'\u001b[0m\u001b[1;33m)\u001b[0m\u001b[1;33m\u001b[0m\u001b[1;33m\u001b[0m\u001b[0m\n\u001b[0;32m    152\u001b[0m     \u001b[0msubprocess\u001b[0m\u001b[1;33m.\u001b[0m\u001b[0mPopen\u001b[0m\u001b[1;33m(\u001b[0m\u001b[1;33m[\u001b[0m\u001b[0mpath\u001b[0m\u001b[1;33m]\u001b[0m\u001b[1;33m,\u001b[0m \u001b[0mshell\u001b[0m \u001b[1;33m=\u001b[0m \u001b[1;32mTrue\u001b[0m\u001b[1;33m)\u001b[0m\u001b[1;33m\u001b[0m\u001b[1;33m\u001b[0m\u001b[0m\n\u001b[1;32m--> 153\u001b[1;33m \u001b[0mstart\u001b[0m\u001b[1;33m(\u001b[0m\u001b[0mID\u001b[0m\u001b[1;33m)\u001b[0m\u001b[1;33m\u001b[0m\u001b[1;33m\u001b[0m\u001b[0m\n\u001b[0m",
      "\u001b[1;32m<ipython-input-27-850fff101658>\u001b[0m in \u001b[0;36mstart\u001b[1;34m(ID)\u001b[0m\n\u001b[0;32m     39\u001b[0m         \u001b[0muserInfo\u001b[0m\u001b[1;33m.\u001b[0m\u001b[0mappend\u001b[0m\u001b[1;33m(\u001b[0m\u001b[1;34m\"여성\"\u001b[0m\u001b[1;33m)\u001b[0m\u001b[1;33m\u001b[0m\u001b[1;33m\u001b[0m\u001b[0m\n\u001b[0;32m     40\u001b[0m     \u001b[0muserInfo\u001b[0m\u001b[1;33m.\u001b[0m\u001b[0mappend\u001b[0m\u001b[1;33m(\u001b[0m\u001b[0mstr\u001b[0m\u001b[1;33m(\u001b[0m\u001b[0mprofile\u001b[0m\u001b[1;33m.\u001b[0m\u001b[0mage\u001b[0m\u001b[1;33m)\u001b[0m\u001b[1;33m)\u001b[0m\u001b[1;33m\u001b[0m\u001b[1;33m\u001b[0m\u001b[0m\n\u001b[1;32m---> 41\u001b[1;33m     \u001b[0mpdf_configure\u001b[0m\u001b[1;33m(\u001b[0m\u001b[0mID\u001b[0m\u001b[1;33m,\u001b[0m \u001b[0muserInfo\u001b[0m\u001b[1;33m)\u001b[0m\u001b[1;33m\u001b[0m\u001b[1;33m\u001b[0m\u001b[0m\n\u001b[0m\u001b[0;32m     42\u001b[0m \u001b[1;33m\u001b[0m\u001b[0m\n\u001b[0;32m     43\u001b[0m \u001b[1;32mclass\u001b[0m \u001b[0mPDF\u001b[0m\u001b[1;33m(\u001b[0m\u001b[0mFPDF\u001b[0m\u001b[1;33m)\u001b[0m\u001b[1;33m:\u001b[0m\u001b[1;33m\u001b[0m\u001b[1;33m\u001b[0m\u001b[0m\n",
      "\u001b[1;32m<ipython-input-27-850fff101658>\u001b[0m in \u001b[0;36mpdf_configure\u001b[1;34m(ID, userInfo)\u001b[0m\n\u001b[0;32m    129\u001b[0m         \u001b[0mpdf\u001b[0m\u001b[1;33m.\u001b[0m\u001b[0mimage\u001b[0m\u001b[1;33m(\u001b[0m\u001b[1;34mf'./img/{ID}/{image}'\u001b[0m\u001b[1;33m,\u001b[0m \u001b[0mw\u001b[0m \u001b[1;33m=\u001b[0m \u001b[1;36m130\u001b[0m\u001b[1;33m,\u001b[0m \u001b[0mh\u001b[0m \u001b[1;33m=\u001b[0m \u001b[1;36m95\u001b[0m\u001b[1;33m,\u001b[0m \u001b[0mx\u001b[0m \u001b[1;33m=\u001b[0m \u001b[1;36m40\u001b[0m\u001b[1;33m)\u001b[0m\u001b[1;33m\u001b[0m\u001b[1;33m\u001b[0m\u001b[0m\n\u001b[0;32m    130\u001b[0m         \u001b[1;32mif\u001b[0m \u001b[0mimage\u001b[0m\u001b[1;33m[\u001b[0m\u001b[1;33m-\u001b[0m\u001b[1;36m8\u001b[0m\u001b[1;33m:\u001b[0m\u001b[1;33m-\u001b[0m\u001b[1;36m4\u001b[0m\u001b[1;33m]\u001b[0m \u001b[1;33m!=\u001b[0m \u001b[1;34m\"noth\"\u001b[0m\u001b[1;33m:\u001b[0m\u001b[1;33m\u001b[0m\u001b[1;33m\u001b[0m\u001b[0m\n\u001b[1;32m--> 131\u001b[1;33m             \u001b[1;32mfor\u001b[0m \u001b[0mmessage\u001b[0m \u001b[1;32min\u001b[0m \u001b[0mmessage_dictionary\u001b[0m\u001b[1;33m[\u001b[0m\u001b[1;34mf'./img/{ID}/{image}'\u001b[0m\u001b[1;33m]\u001b[0m\u001b[1;33m:\u001b[0m\u001b[1;33m\u001b[0m\u001b[1;33m\u001b[0m\u001b[0m\n\u001b[0m\u001b[0;32m    132\u001b[0m                 \u001b[0mmessage_count\u001b[0m \u001b[1;33m-=\u001b[0m \u001b[1;36m1\u001b[0m\u001b[1;33m\u001b[0m\u001b[1;33m\u001b[0m\u001b[0m\n\u001b[0;32m    133\u001b[0m                 \u001b[0mpdf\u001b[0m\u001b[1;33m.\u001b[0m\u001b[0mcell\u001b[0m\u001b[1;33m(\u001b[0m\u001b[1;36m0\u001b[0m\u001b[1;33m,\u001b[0m \u001b[1;36m7\u001b[0m\u001b[1;33m,\u001b[0m \u001b[0mmessage\u001b[0m\u001b[1;33m,\u001b[0m \u001b[0mln\u001b[0m\u001b[1;33m=\u001b[0m\u001b[1;32mTrue\u001b[0m\u001b[1;33m)\u001b[0m\u001b[1;33m\u001b[0m\u001b[1;33m\u001b[0m\u001b[0m\n",
      "\u001b[1;31mKeyError\u001b[0m: './img/228/228_대화워드클라우드.png'"
     ]
    }
   ],
   "source": [
    "from fpdf import FPDF\n",
    "import subprocess\n",
    "import random\n",
    "\n",
    "prepared_advices = [[\"커피를 마시면 혈압이 바로 올라가는 현상을 보이지만, \", \"이 효과는 4일 정도면 내성이 생겨 혈압이 높아지는 현상이 줄어든다고 하네요.\"]\n",
    "       ,[\"금연을 했던 사람과 지속적으로 흡연을 하는 사람의 폐를 비교해보면 한 번이라도 금연을 실천했던 사람의 폐 기능이\", \"그렇지 않은 사람에 비해 훨씬 좋다는 결과가 나왔다고 합니다.\"]\n",
    "       ,[\"치아관리를 잘 하면 뇌졸중이나 심장병도 예방할 수 있습니다. 아침, 점심, 저녁식사 후 3분이내, 3분동안,\", \" 그리고 취침 전에 하는것이 바랍직합니다!\"]\n",
    "       ,[\"소화력이 떨어지는 경우에는 영양소를 많이 섭취하기 위해 갈아서 마시는 것이\", \" 2배이상 효과가 있다고 임상실험을 통해 밝혀졌다고 하네요!\"]\n",
    "       ,[\"꼭꼭 씹어서 삼키는 것이 건강에 좋다고 하네요. 라면을 먹을 때에도 10번은 씹어야\", \" 위에서 자연스럽게 소화시킬 수 있다고 합니다.\"]\n",
    "       ,[\"매일 15분 씩 낮잠을 잔다면, 오전 중에 쌓인 피로를 말끔히 풀고 오후를 활기차게 보낼 수 있다고 합니다.\"]\n",
    "       ,[\"간식은 식사 3~4시간 이후에 드시는 것을 추천드려요. 조금씩 자주 먹는 것은 장수의 지름길이라고 하네요.\"]\n",
    "       ,[\"하루 30분 걷기를 생활화하세요! 지방이 연소되는 시점은\", \" 운동 후 20분이 지났을 때부터라고 하니, 걷기 운동을 같이 해봐요!\"]\n",
    "       ,[\"걷는 것이 지루해진다면, 산책로를 바꿔보는 것은 어떨까요? 코스를 바꾸는 것만으로도 지루함이 줄어들거에요!\"]\n",
    "       ,[\"물을 자주 마셔주는 것은 건강에 도움이 됩니다. 물을 자주 마시면,\", \" 혈액순환이 원활해지고 신진대사가 활발해진다고 하네요.\"]\n",
    "       ,[\"적당한 운동은 혈액순환을 촉진시켜, 고혈압의 예방에 큰 도움이 된다고 합니다.\"]\n",
    "       ,[\"평소 과식을 삼가고 취침 2~3시간 전에는 음식물 섭취를 피함으로써, 배탈이나 소화불량을 예방할 수 있습니다.\"]\n",
    "       ,[\"대표적인 발효 식품인 김치 혹은 요구르트는 유산균 섭취에 큰 도움을 줍니다.\", \" 단, 당과 나트륨을 많이 섭취하지 않도록 주의하세요!\"]]\n",
    "\n",
    "advices = random.sample(prepared_advices, 2)\n",
    "\n",
    "\n",
    "def pdf_configure(ID, userInfo):\n",
    "    path = \"pdf\\\\\" + ID + \"_practice.pdf\"\n",
    "\n",
    "    pdf = PDF('P', 'mm', 'A4')\n",
    "    pdf.add_page()\n",
    "\n",
    "def start(ID):\n",
    "    # get data\n",
    "    data = pd.read_csv('./log_data/hs_'+ ID +'_m08_0903_1355.csv')\n",
    "    profile_file = pd.read_csv('./log_data/user_profile.csv')\n",
    "\n",
    "    profile_index = profile_file.index[profile_file.index[profile_file['id'] == int(ID)]].tolist()[0]\n",
    "    profile = profile_file.iloc[profile_index]\n",
    "    print(profile)\n",
    "    userInfo = []\n",
    "    if profile.sex == 'M':\n",
    "        userInfo.append(\"남성\")\n",
    "    else:\n",
    "        userInfo.append(\"여성\")\n",
    "    userInfo.append(str(profile.age))\n",
    "    userInfo.append(profile.user_name)\n",
    "    pdf_configure(ID, userInfo)\n",
    "    \n",
    "class PDF(FPDF):\n",
    "    # footer\n",
    "    def footer(self):\n",
    "        self.set_y(-15)\n",
    "        self.set_font('helvetica', 'I', 10)\n",
    "        self.cell(0, 10, f'Page {self.page_no()} /{{nb}}', align='C')\n",
    "        \n",
    "def pdf_configure(ID, userInfo):\n",
    "    name = userInfo[2]\n",
    "    path = \"pdf/\" + ID + \"_practice.pdf\"\n",
    "    images = os.listdir(f\"./img/{ID}\")\n",
    "    try:\n",
    "        images.remove('.ipynb_checkpoints')\n",
    "    except:\n",
    "        pass\n",
    "    first_index = f'{ID}_State_가장많이하는행동들.png'\n",
    "    first_first_index = f'{ID}_Act_가장많이하는행동들(tree_map).png'\n",
    "    second_index = f'{ID}_Act_요일별_가장_많이_하는_행동.png'\n",
    "    third_index = f'{ID}_Act_시간대별가장많이식별된행동들.png'\n",
    "    fourth_index = f'{ID}_대화워드클라우드.png'\n",
    "    print(fourth_index)\n",
    "    counter = 0\n",
    "    # First page\n",
    "    # First page\n",
    "    pdf = PDF('P', 'mm', 'A4')\n",
    "    pdf.add_page()\n",
    "    pdf.alias_nb_pages()\n",
    "    \n",
    "    # header info\n",
    "    pdf.add_font('NanumBarunpenR', '', 'C:\\\\Windows\\\\Fonts\\\\NanumBarunpenR.ttf', uni=True)\n",
    "    pdf.set_font('NanumBarunpenR', '', 30)\n",
    "    pdf.cell(0, 35, \"순이의 건강 레포트\", align=\"C\", ln=2, border = True)\n",
    "    pdf.set_font('NanumBarunpenR', '', 17)\n",
    "    pdf.cell(0, 5, align=\"R\", ln=2)\n",
    "    pdf.set_x(160)\n",
    "    pdf.cell(0, 8, \"이름: \" + name, ln=1)\n",
    "    pdf.set_x(160)\n",
    "    pdf.cell(0, 8, \"성별: \" + userInfo[0], ln=1)\n",
    "    pdf.set_x(160)\n",
    "    pdf.cell(0, 8, \"나이: \" + userInfo[1], ln=1)\n",
    "    \n",
    "    # first standard graph (가장 많이 하는 행동)\n",
    "    pdf.set_font('NanumBarunpenR', '', 12)\n",
    "    pdf.cell(0, 10, f\"먼저 {name} 님이 가장 많이 하시는 활동에 대해서 알아볼게요\", ln=True)\n",
    "    pdf.cell(0, 10, f\" {name} 님의 활동 그래프\", border=True, ln=True)\n",
    "    pdf.cell(0, 10, f\"\", ln=True)\n",
    "    pdf.image(f'./img/{ID}/{ID}_State_가장많이하는행동들.png', w = 100, x = -5)\n",
    "    pdf.image(f'./img/{ID}/{ID}_Act_가장많이하는행동들(tree_map).png', w = 115, x = 90, y = 105, h = 75)\n",
    "    \n",
    "    pdf.cell(0, 8, \"\", ln = True)\n",
    "    pdf.cell(0, 7, f\"{name}님이 가장 많이 하시는 행동은 {list_most_top4[0]}입니다. 평소 생각하시던거랑 일치하나요? ㅎㅎ\", ln=True)\n",
    "    pdf.cell(0, 7, f\"{name}님이 다음으로 많이 하시는 행동은 {list_most_top4[1]}입니다.\", ln=True)\n",
    "    pdf.cell(0, 7, f\"{name}님이 세 번째로 많이 하시는 행동은~ 바로바로 {list_most_top4[2]}라고 하네요!\", ln=True)\n",
    "    pdf.cell(0, 7, f\"{name}님이 네 번째로 많이 하시는 행동은 {list_most_top4[3]}입니다. 참고하셔서 알찬 하루 보내시기 바랍니다!\", ln=True)\n",
    "    \n",
    "    images.remove(first_index)\n",
    "    images.remove(first_first_index)\n",
    "    # common sense\n",
    "    pdf.cell(0, 8, \"\", ln = True)\n",
    "    pdf.set_font('NanumBarunpenR', '', 17)\n",
    "    pdf.cell(0, 12, f\" 순이가 {name}님을 위해 전해주는 토막상식!\", border=True, ln=True, align='C')\n",
    "    pdf.set_font('NanumBarunpenR', '', 12)\n",
    "    pdf.cell(0, 5, \"\", ln=True)\n",
    "    for advice in advices[0]:\n",
    "        pdf.cell(0, 7, f\"{advice}\", ln=True, align='C')\n",
    "    pdf.cell(0, 7, \"\", ln=True)\n",
    "    for advice in advices[1]:\n",
    "        pdf.cell(0, 7, f\"{advice}\", ln=True, align='C')\n",
    "    \n",
    "    # Second Page\n",
    "    # Second Page\n",
    "    pdf.add_page()\n",
    "    \n",
    "    # second standard graph (요일별 행동)\n",
    "    pdf.set_font('NanumBarunpenR', '', 12)\n",
    "    pdf.cell(0, 10, f\"다음으로는 {name} 님이 요일별로 가장 많이 하시는 활동이에요\", ln=True)\n",
    "    pdf.cell(0, 10, f\" {name} 님의 요일별 활동 그래프\", border=True, ln=True)\n",
    "    pdf.cell(0, 12, f\"\", ln=True)\n",
    "    pdf.image(f'./img/{ID}/{ID}_Act_요일별_가장_많이_하는_행동.png', w = 140, x = 35)\n",
    "    images.remove(second_index)\n",
    "    # third standard graph (시간별 행동)\n",
    "    pdf.set_font('NanumBarunpenR', '', 12)\n",
    "    pdf.cell(0, 10, f\"마지막으로 {name} 님이 시간별로 가장 많이 하시는 활동에 대해서 알아볼게요\", ln=True)\n",
    "    pdf.cell(0, 10, f\" {name} 님의 시간대별 활동 그래프\", border=True, ln=True)\n",
    "    pdf.cell(0, 10, f\"\", ln=True)\n",
    "    pdf.image(f'./img/{ID}/{ID}_Act_시간대별가장많이식별된행동들.png', w = 160, h = 85, x = 30)\n",
    "    images.remove(third_index)\n",
    "    \n",
    "    # Third Page\n",
    "    # Third Page\n",
    "    \n",
    "    # fourth standard graph (대화워드 클라우드)\n",
    "    pdf.add_page()\n",
    "    pdf.cell(0, 10, \"\", ln=True)\n",
    "    pdf.cell(0, 20, f\"순이와 경순님이 어떤 대화를 나눴는지 확인해볼까요?\", ln=True)\n",
    "    pdf.cell(0, 10, f\" 순이와의 대화 분석\", border=True, ln=True)\n",
    "    pdf.cell(0, 15, \"\", ln = True)\n",
    "    pdf.image(f'./img/{ID}/{ID}_대화워드클라우드.png', w = 160, x = 20)\n",
    "    pdf.cell(0, 10, f\"순이와 첫 번째 대화 수: {첫번째_순이_대화내용_수}\", align='C', ln=True)\n",
    "    pdf.cell(0, 10, f\"순이와 두 번째 대화 수: {두번째_순이_대화내용_수}\", align='C', ln=True)\n",
    "    pdf.cell(0, 10, f\"순이와 세 번째 대화 수: {세번째_순이_대화내용_수}\", align='C', ln=True)\n",
    "    pdf.cell(0, 10, f\"순이와 총 대화 수: {순이_대화_횟수}        답변률: {round((사용자_대화_횟수 * 100) / 순이_대화_횟수, 2)} %\", align='C', ln=True)\n",
    "    \n",
    "    images.remove(fourth_index)\n",
    "    print(images)\n",
    "    # Fourth Page\n",
    "    # Fourth Page\n",
    "    \n",
    "    pdf.add_page()\n",
    "    loading = 1\n",
    "    for image in images:\n",
    "        message_count = 2\n",
    "        counter += 1\n",
    "        image_name = image[len(ID) + 1:-10]\n",
    "        pdf.cell(0, 10, f\" {name} 님의 {image_name}\", border=True, ln=True)\n",
    "        pdf.cell(0, 10, f\"\", ln=True)\n",
    "        pdf.image(f'./img/{ID}/{image}', w = 130, h = 95, x = 40)\n",
    "        if image[-8:-4] != \"noth\":\n",
    "            for message in message_dictionary[f'./img/{ID}/{image}']:\n",
    "                message_count -= 1\n",
    "                pdf.cell(0, 7, message, ln=True)\n",
    "            for _ in range(message_count):\n",
    "                pdf.cell(0, 7, \"\", ln=True)\n",
    "        if counter == 1:\n",
    "            if image[-8:-4] == 'noth':\n",
    "                pass\n",
    "            else:\n",
    "                pdf.image(f'./static_img/{image[-8:-4]}.png', x = 20, y = 40, w = 30)\n",
    "        if counter == 2:\n",
    "            counter = 0\n",
    "            if image[-8:-4] == 'noth':\n",
    "                pass\n",
    "            else:\n",
    "                pdf.image(f'./static_img/{image[-8:-4]}.png', x = 20, y = 170, w = 30)\n",
    "            if images.index(image) != (len(images) - 1):\n",
    "                pdf.add_page()\n",
    "        loading += 1\n",
    "    # create\n",
    "    pdf.output('./pdf/' + ID + '_practice.pdf')\n",
    "    subprocess.Popen([path], shell = True)\n",
    "start(ID)"
   ]
  },
  {
   "cell_type": "code",
   "execution_count": null,
   "id": "3264de51",
   "metadata": {},
   "outputs": [],
   "source": []
  },
  {
   "cell_type": "code",
   "execution_count": null,
   "id": "071fba79",
   "metadata": {},
   "outputs": [],
   "source": []
  },
  {
   "cell_type": "code",
   "execution_count": null,
   "id": "b08d41b7",
   "metadata": {},
   "outputs": [],
   "source": []
  },
  {
   "cell_type": "code",
   "execution_count": null,
   "id": "3f7ea835",
   "metadata": {},
   "outputs": [],
   "source": []
  },
  {
   "cell_type": "code",
   "execution_count": null,
   "id": "2988dbb6",
   "metadata": {},
   "outputs": [],
   "source": []
  },
  {
   "cell_type": "code",
   "execution_count": null,
   "id": "94f1f9f8",
   "metadata": {},
   "outputs": [],
   "source": []
  },
  {
   "cell_type": "code",
   "execution_count": null,
   "id": "816c9ece",
   "metadata": {},
   "outputs": [],
   "source": []
  },
  {
   "cell_type": "code",
   "execution_count": null,
   "id": "faf512ce",
   "metadata": {},
   "outputs": [],
   "source": []
  }
 ],
 "metadata": {
  "accelerator": "GPU",
  "colab": {
   "collapsed_sections": [],
   "name": "Untitled.ipynb",
   "provenance": []
  },
  "kernelspec": {
   "display_name": "Python 3",
   "language": "python",
   "name": "python3"
  },
  "language_info": {
   "codemirror_mode": {
    "name": "ipython",
    "version": 3
   },
   "file_extension": ".py",
   "mimetype": "text/x-python",
   "name": "python",
   "nbconvert_exporter": "python",
   "pygments_lexer": "ipython3",
   "version": "3.8.10"
  },
  "toc": {
   "base_numbering": 1,
   "nav_menu": {},
   "number_sections": true,
   "sideBar": true,
   "skip_h1_title": false,
   "title_cell": "Table of Contents",
   "title_sidebar": "Contents",
   "toc_cell": false,
   "toc_position": {
    "height": "calc(100% - 180px)",
    "left": "10px",
    "top": "150px",
    "width": "306px"
   },
   "toc_section_display": true,
   "toc_window_display": false
  }
 },
 "nbformat": 4,
 "nbformat_minor": 5
}
